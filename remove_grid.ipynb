{
 "cells": [
  {
   "attachments": {},
   "cell_type": "markdown",
   "metadata": {},
   "source": [
    "Script using the specsanalyzer class/library to remove the grid from the data via Fourrier Filtering."
   ]
  },
  {
   "cell_type": "code",
   "execution_count": 1,
   "metadata": {},
   "outputs": [
    {
     "ename": "ModuleNotFoundError",
     "evalue": "No module named 'specsanalyzer'",
     "output_type": "error",
     "traceback": [
      "\u001b[1;31m---------------------------------------------------------------------------\u001b[0m",
      "\u001b[1;31mModuleNotFoundError\u001b[0m                       Traceback (most recent call last)",
      "\u001b[1;32mc:\\Users\\fb7365\\Documents\\GitHub\\psi_arpes_scripts\\remove_grid.ipynb Cell 2\u001b[0m line \u001b[0;36m3\n\u001b[0;32m      <a href='vscode-notebook-cell:/c%3A/Users/fb7365/Documents/GitHub/psi_arpes_scripts/remove_grid.ipynb#W1sZmlsZQ%3D%3D?line=0'>1</a>\u001b[0m \u001b[39mimport\u001b[39;00m \u001b[39mmatplotlib\u001b[39;00m\u001b[39m.\u001b[39;00m\u001b[39mpyplot\u001b[39;00m \u001b[39mas\u001b[39;00m \u001b[39mplt\u001b[39;00m\n\u001b[0;32m      <a href='vscode-notebook-cell:/c%3A/Users/fb7365/Documents/GitHub/psi_arpes_scripts/remove_grid.ipynb#W1sZmlsZQ%3D%3D?line=1'>2</a>\u001b[0m \u001b[39mimport\u001b[39;00m \u001b[39mnumpy\u001b[39;00m \u001b[39mas\u001b[39;00m \u001b[39mnp\u001b[39;00m\n\u001b[1;32m----> <a href='vscode-notebook-cell:/c%3A/Users/fb7365/Documents/GitHub/psi_arpes_scripts/remove_grid.ipynb#W1sZmlsZQ%3D%3D?line=2'>3</a>\u001b[0m \u001b[39mfrom\u001b[39;00m \u001b[39mspecsanalyzer\u001b[39;00m\u001b[39m.\u001b[39;00m\u001b[39mimg_tools\u001b[39;00m \u001b[39mimport\u001b[39;00m fourier_filter_2d\n\u001b[0;32m      <a href='vscode-notebook-cell:/c%3A/Users/fb7365/Documents/GitHub/psi_arpes_scripts/remove_grid.ipynb#W1sZmlsZQ%3D%3D?line=3'>4</a>\u001b[0m \u001b[39mimport\u001b[39;00m \u001b[39mxarray\u001b[39;00m \u001b[39mas\u001b[39;00m \u001b[39mxr\u001b[39;00m\n\u001b[0;32m      <a href='vscode-notebook-cell:/c%3A/Users/fb7365/Documents/GitHub/psi_arpes_scripts/remove_grid.ipynb#W1sZmlsZQ%3D%3D?line=4'>5</a>\u001b[0m \u001b[39mimport\u001b[39;00m \u001b[39mast\u001b[39;00m\n",
      "\u001b[1;31mModuleNotFoundError\u001b[0m: No module named 'specsanalyzer'"
     ]
    }
   ],
   "source": [
    "import matplotlib.pyplot as plt\n",
    "import numpy as np\n",
    "from specsanalyzer.img_tools import fourier_filter_2d\n",
    "import xarray as xr\n",
    "import ast"
   ]
  },
  {
   "cell_type": "code",
   "execution_count": 2,
   "metadata": {},
   "outputs": [
    {
     "name": "stderr",
     "output_type": "stream",
     "text": [
      "'pip' is not recognized as an internal or external command,\n",
      "operable program or batch file.\n"
     ]
    }
   ],
   "source": []
  },
  {
   "attachments": {},
   "cell_type": "markdown",
   "metadata": {},
   "source": [
    "Defining the run. Only 2D data. Can work for 3D as well, have to implement some iterating over the other axis"
   ]
  },
  {
   "cell_type": "code",
   "execution_count": null,
   "metadata": {},
   "outputs": [],
   "source": [
    "import calendar\n",
    "\n",
    "year = 2022\n",
    "month = 12\n",
    "day = 6\n",
    "run = 2977\n",
    "\n",
    "path = f\"Y:\\TRARPES\\Converted_h5_files\\{year}\\{month:0>2} {calendar.month_name[month]}\\Day {day:0>2}\\{str(run)}.h5\"\n",
    "save_path = f\"Y:\\TRARPES\\Converted_h5_files\\{year}\\{month:0>2} {calendar.month_name[month]}\\Day {day:0>2}\\{str(run)}_gridrem.h5\"\n",
    "\n",
    "data_set = xr.open_dataset(path, engine=\"h5netcdf\")"
   ]
  },
  {
   "cell_type": "code",
   "execution_count": null,
   "metadata": {},
   "outputs": [],
   "source": [
    "data_set"
   ]
  },
  {
   "attachments": {},
   "cell_type": "markdown",
   "metadata": {},
   "source": [
    "Reading out the FFT peaks used for the filtering from the metadata"
   ]
  },
  {
   "cell_type": "code",
   "execution_count": null,
   "metadata": {},
   "outputs": [],
   "source": [
    "peaks = ast.literal_eval(data_set.attrs['fft_filter_peaks'])\n",
    "peaks"
   ]
  },
  {
   "cell_type": "markdown",
   "metadata": {},
   "source": []
  },
  {
   "attachments": {},
   "cell_type": "markdown",
   "metadata": {},
   "source": [
    "Performing the FFT and plotting FFT, plot the mask and plot the filtered FFT"
   ]
  },
  {
   "cell_type": "code",
   "execution_count": null,
   "metadata": {},
   "outputs": [],
   "source": [
    "fft = fourier_filter_2d(data_set.spectrum, peaks, ret=\"fft\")\n",
    "mask = fourier_filter_2d(data_set.spectrum, peaks, ret=\"mask\")\n",
    "filtered_fft = fourier_filter_2d(data_set.spectrum, peaks, ret=\"filtered_fft\")\n",
    "\n",
    "fig, ax = plt.subplots(1, 3, figsize=(15, 5))\n",
    "im0 = ax[0].imshow(np.abs(fft[0:350, 0:180]), vmax=300000000)\n",
    "ax[0].set_title(\"FFT\")\n",
    "fig.colorbar(im0, ax=ax[0])\n",
    "im1 = ax[1].imshow(np.abs(mask[0:350, 0:180]), vmax=1)\n",
    "ax[1].set_title(\"Mask\")\n",
    "fig.colorbar(im1, ax=ax[1])\n",
    "im2 = ax[2].imshow(np.abs(filtered_fft[0:350, 0:180]), vmax=300000000)\n",
    "ax[2].set_title(\"Filtered FFT\")\n",
    "fig.colorbar(im2, ax=ax[2])\n",
    "for a in ax:\n",
    "    a.set_xlabel(\"Energy / Pixels\")\n",
    "    a.set_ylabel(\"Angle / Pixels\")\n",
    "    "
   ]
  },
  {
   "attachments": {},
   "cell_type": "markdown",
   "metadata": {},
   "source": [
    "Perform the FFT filtering and plot the inital data, the filtered data and the difference image"
   ]
  },
  {
   "cell_type": "code",
   "execution_count": null,
   "metadata": {},
   "outputs": [],
   "source": [
    "fig, ax = plt.subplots(1, 3, figsize=(21, 5))\n",
    "\n",
    "filtered = fourier_filter_2d(data_set.spectrum, peaks)\n",
    "im0 = ax[0].imshow(data_set.spectrum)\n",
    "ax[0].set_title(\"Before FFT\")\n",
    "fig.colorbar(im0, ax=ax[0])\n",
    "im1 = ax[1].imshow(filtered)\n",
    "ax[1].set_title(\"After FFT\")\n",
    "fig.colorbar(im1, ax=ax[1])\n",
    "im2 = ax[2].imshow(data_set.spectrum - filtered)\n",
    "ax[2].set_title(\"Difference\")\n",
    "fig.colorbar(im2, ax=ax[2])"
   ]
  },
  {
   "attachments": {},
   "cell_type": "markdown",
   "metadata": {},
   "source": [
    "Overwrite the spectrum of the inital DataSet with the filtered spectrum. Plot difference for confirmation -> should be 0 everywhere."
   ]
  },
  {
   "cell_type": "code",
   "execution_count": null,
   "metadata": {},
   "outputs": [],
   "source": [
    "filtered_set = data_set.copy()\n",
    "filtered_set.spectrum.values = filtered\n",
    "plt.imshow(filtered_set.spectrum - filtered)\n",
    "plt.colorbar()\n",
    "plt.title(\"Difference after overwriting spectrum\")"
   ]
  },
  {
   "cell_type": "code",
   "execution_count": null,
   "metadata": {},
   "outputs": [],
   "source": [
    "filtered_set"
   ]
  },
  {
   "attachments": {},
   "cell_type": "markdown",
   "metadata": {},
   "source": [
    "Save the filtered dataset in a new h5 file. The path is defined in the first cell."
   ]
  },
  {
   "cell_type": "code",
   "execution_count": null,
   "metadata": {},
   "outputs": [],
   "source": [
    "save = False\n",
    "if save:\n",
    "    filtered_set.to_netcdf(path=save_path, mode='w', format='NETCDF4', engine='h5netcdf')"
   ]
  }
 ],
 "metadata": {
  "kernelspec": {
   "display_name": "specsscan",
   "language": "python",
   "name": "python3"
  },
  "language_info": {
   "codemirror_mode": {
    "name": "ipython",
    "version": 3
   },
   "file_extension": ".py",
   "mimetype": "text/x-python",
   "name": "python",
   "nbconvert_exporter": "python",
   "pygments_lexer": "ipython3",
   "version": "3.8.18"
  },
  "orig_nbformat": 4
 },
 "nbformat": 4,
 "nbformat_minor": 2
}
