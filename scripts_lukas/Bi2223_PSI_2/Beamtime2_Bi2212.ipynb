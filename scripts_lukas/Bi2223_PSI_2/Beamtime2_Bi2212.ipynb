{
 "cells": [
  {
   "cell_type": "code",
   "execution_count": null,
   "id": "b7fb0097-529c-4005-8e38-cc168786bf9b",
   "metadata": {},
   "outputs": [],
   "source": [
    "from arpes.io import load_data\n",
    "import os.path"
   ]
  },
  {
   "cell_type": "markdown",
   "id": "6a16b3b6-5a6e-4621-8736-6291a7b62828",
   "metadata": {
    "tags": []
   },
   "source": [
    "# Quick overview of Bi2212 Data from 2nd Beamtime at PSI\n",
    "This notebook covers a basic overview of the Bi2212 data taken at the 2nd beamtime at PSI. It will show the observed EDCs of Bi2212 and Gold and the FS of Bi2212.\n",
    "The Gold measurements were taken to have a reference for the Fermi Level of all Data taken on this beamtime."
   ]
  },
  {
   "cell_type": "markdown",
   "id": "02aabb8e-6269-4c7a-adf0-9917f06408e2",
   "metadata": {
    "tags": []
   },
   "source": [
    "## EDC of Bi2212 at normal emission"
   ]
  },
  {
   "cell_type": "code",
   "execution_count": null,
   "id": "09cdba6e-207b-4cc7-8c08-d8b5e4b9a3bb",
   "metadata": {},
   "outputs": [],
   "source": [
    "# Define directory\n",
    "path = os.path.abspath(\"G:\\My Drive\\Bi2223\\e19557\\Beamtime2\\Sample4\\Bi2212\")\n",
    "\n",
    "# Different parameters used to set up scans at SLS\n",
    "scan_type = 'EDC'\n",
    "direction = '*'\n",
    "phi = '*'\n",
    "energy = '*'+'eV'\n",
    "polarization = '*'\n",
    "temp = '*'\n",
    "e_pass = '*'+'eVpass'\n",
    "comment = ''\n",
    "run = '*'.zfill(4)\n",
    "\n",
    "# Put together string for finding file\n",
    "phi = phi.replace('+', 'P').replace('-', 'M').replace('.', 'p')\n",
    "energy = energy.replace('.', 'p')\n",
    "parameters = [scan_type, direction, phi, energy, polarization, temp, e_pass, comment, run]\n",
    "if comment == '':\n",
    "    parameters.remove(comment)\n",
    "file_type = 'h5'\n",
    "file_name = '_'.join(parameters)\n",
    "file = '.'.join([file_name , file_type])\n",
    "\n",
    "full_file = os.path.join(path, file)\n",
    "file"
   ]
  },
  {
   "cell_type": "code",
   "execution_count": null,
   "id": "0c077e5b-89eb-4f7d-bb72-3008cac2c3fd",
   "metadata": {},
   "outputs": [],
   "source": [
    "import glob\n",
    "# Load all files with above specified parameters, * is a placeholder and imports all files in its place\n",
    "files = glob.glob(full_file)\n",
    "print(len(files))\n",
    "files"
   ]
  },
  {
   "cell_type": "code",
   "execution_count": null,
   "id": "db857599-35b7-4ec9-9bb8-6d0097ac9d17",
   "metadata": {},
   "outputs": [],
   "source": [
    "data_list = {}\n",
    "for file in files:\n",
    "    #data_list.append(load_data(file, location=\"ULTRA\"))\n",
    "    data = load_data(file, location=\"ULTRA\")\n",
    "    file_name = file.replace(path, '')[1:-3]\n",
    "    data_list.update({file_name : data})"
   ]
  },
  {
   "cell_type": "code",
   "execution_count": null,
   "id": "9f897b28-e02f-4638-b0dd-40cfe618bff4",
   "metadata": {},
   "outputs": [],
   "source": [
    "import matplotlib.pyplot as plt\n",
    "import math\n",
    "rows = math.ceil(len(data_list) / 3)\n",
    "fig, ax = plt.subplots(1, 1, figsize=(7, 6))\n",
    "    \n",
    "for key in data_list.keys():\n",
    "    data_list[key].spectrum.S.plot()\n",
    "    ax.set_title(f\"{key}\")\n",
    "\n",
    "plt.tight_layout(rect=[0, 0.03, 1, 0.98])"
   ]
  },
  {
   "cell_type": "markdown",
   "id": "ad6f85ae-c22a-4b2d-9272-03144794f0b1",
   "metadata": {
    "tags": []
   },
   "source": [
    "## EDCs of Bi2212 at different Tilts"
   ]
  },
  {
   "cell_type": "code",
   "execution_count": null,
   "id": "111e7d83-7cdb-4d38-bfd3-7ad39dc016e9",
   "metadata": {},
   "outputs": [],
   "source": [
    "# Define directory\n",
    "path = os.path.abspath(\"G:\\My Drive\\Bi2223\\e19557\\Beamtime2\\Sample4\\Bi2212\")\n",
    "\n",
    "# Different parameters used to set up scans at SLS\n",
    "scan_type = 'EDC'\n",
    "direction = '*'\n",
    "phi = '*'\n",
    "energy = '*'\n",
    "polarization = '*'\n",
    "temp = '*'\n",
    "e_pass = '*'+'eVpass'\n",
    "comment = 'TILT*'\n",
    "run = '*'.zfill(4)\n",
    "\n",
    "# Put together string for finding file\n",
    "parameters = [scan_type, direction, phi, energy, polarization, temp, e_pass, comment, run]\n",
    "if comment == '':\n",
    "    parameters.remove(comment)\n",
    "file_type = 'h5'\n",
    "file_name = '_'.join(parameters)\n",
    "file = '.'.join([file_name , file_type])\n",
    "\n",
    "full_file = os.path.join(path, file)\n",
    "file"
   ]
  },
  {
   "cell_type": "code",
   "execution_count": null,
   "id": "8db9e9ef-4b99-422f-94d1-d7da3690ac94",
   "metadata": {},
   "outputs": [],
   "source": [
    "import glob\n",
    "# Load all files with above specified parameters, * is a placeholder and imports all files in its place\n",
    "files = glob.glob(full_file)\n",
    "print(len(files))\n",
    "files"
   ]
  },
  {
   "cell_type": "code",
   "execution_count": null,
   "id": "7183a27b-f32d-438a-a01c-a749ff0892eb",
   "metadata": {},
   "outputs": [],
   "source": [
    "data_list = {}\n",
    "for file in files:\n",
    "    #data_list.append(load_data(file, location=\"ULTRA\"))\n",
    "    data = load_data(file, location=\"ULTRA\")\n",
    "    file_name = file.replace(path, '')[1:-3]\n",
    "    data_list.update({file_name : data})"
   ]
  },
  {
   "cell_type": "code",
   "execution_count": null,
   "id": "b6ec4680-3f44-4a51-857c-7fb628f2d04e",
   "metadata": {},
   "outputs": [],
   "source": [
    "import matplotlib.pyplot as plt\n",
    "import math\n",
    "rows = math.ceil(len(data_list) / 3)\n",
    "fig, ax = plt.subplots(rows, 3, figsize=(14, 6*rows))\n",
    "    \n",
    "for key in data_list.keys():\n",
    "    data_list[key].spectrum.S.plot(ax=ax.ravel()[list(data_list).index(key)])\n",
    "    ax.ravel()[list(data_list).index(key)].set_title(f\"{key}\")\n",
    "\n",
    "plt.tight_layout(rect=[0, 0.03, 1, 0.98])"
   ]
  },
  {
   "cell_type": "markdown",
   "id": "e1483685-f0a5-48ed-972b-da25c16a7ba7",
   "metadata": {
    "tags": []
   },
   "source": [
    "## EDCs of Gold reference sample"
   ]
  },
  {
   "cell_type": "code",
   "execution_count": null,
   "id": "37d4f905-e50e-4880-bf65-066b86b3c00a",
   "metadata": {},
   "outputs": [],
   "source": [
    "# Define directory\n",
    "path = os.path.abspath(\"G:\\My Drive\\Bi2223\\e19557\\Beamtime2\\Sample4\\Bi2212\")\n",
    "\n",
    "# Different parameters used to set up scans at SLS\n",
    "scan_type = 'EDC'\n",
    "direction = '*'\n",
    "phi = '*'\n",
    "energy = '*'+'eV'\n",
    "polarization = '*'\n",
    "temp = '*'\n",
    "e_pass = '*'+'eVpass'\n",
    "comment = 'GoldRef*'\n",
    "run = '*'.zfill(4)\n",
    "\n",
    "# Put together string for finding file\n",
    "phi = phi.replace('+', 'P').replace('-', 'M').replace('.', 'p')\n",
    "energy = energy.replace('.', 'p')\n",
    "parameters = [scan_type, direction, phi, energy, polarization, temp, e_pass, comment, run]\n",
    "if comment == '':\n",
    "    parameters.remove(comment)\n",
    "file_type = 'h5'\n",
    "file_name = '_'.join(parameters)\n",
    "file = '.'.join([file_name , file_type])\n",
    "\n",
    "full_file = os.path.join(path, file)\n",
    "file"
   ]
  },
  {
   "cell_type": "code",
   "execution_count": null,
   "id": "795eba5f-5170-4078-9be9-c461dc95b2bb",
   "metadata": {},
   "outputs": [],
   "source": [
    "import glob\n",
    "# Load all files with above specified parameters, * is a placeholder and imports all files in its place\n",
    "files = glob.glob(full_file)\n",
    "print(len(files))\n",
    "files"
   ]
  },
  {
   "cell_type": "code",
   "execution_count": null,
   "id": "2dd7d49d-6e27-4acb-956f-df5fd7979bb7",
   "metadata": {},
   "outputs": [],
   "source": [
    "data_list = {}\n",
    "for file in files:\n",
    "    #data_list.append(load_data(file, location=\"ULTRA\"))\n",
    "    data = load_data(file, location=\"ULTRA\")\n",
    "    file_name = file.replace(path, '')[1:-3]\n",
    "    data_list.update({file_name : data})"
   ]
  },
  {
   "cell_type": "code",
   "execution_count": null,
   "id": "18fb8902-a425-4901-9d88-ff9347d8c08d",
   "metadata": {},
   "outputs": [],
   "source": [
    "import matplotlib.pyplot as plt\n",
    "import math\n",
    "rows = math.ceil(len(data_list) / 3)\n",
    "fig, ax = plt.subplots(rows, 3, figsize=(14, 6*rows))\n",
    "    \n",
    "for key in data_list.keys():\n",
    "    data_list[key].spectrum.S.plot(ax=ax.ravel()[list(data_list).index(key)])\n",
    "    ax.ravel()[list(data_list).index(key)].set_title(f\"{key}\")\n",
    "\n",
    "plt.tight_layout(rect=[0, 0.03, 1, 0.98])"
   ]
  },
  {
   "cell_type": "markdown",
   "id": "1f34a220-78ef-4e45-8a90-f8e134da236c",
   "metadata": {
    "tags": []
   },
   "source": [
    "## FS maps of Bi2212"
   ]
  },
  {
   "cell_type": "code",
   "execution_count": null,
   "id": "a0e543dc-5cb8-442d-9d90-90f2463f2d64",
   "metadata": {},
   "outputs": [],
   "source": [
    "# Define directory\n",
    "path = os.path.abspath(\"G:\\My Drive\\Bi2223\\e19557\\Beamtime2\\Sample4\\Bi2212\")\n",
    "\n",
    "# Different parameters used to set up scans at SLS\n",
    "scan_type = 'FS'\n",
    "direction = '*'\n",
    "phi = '*'\n",
    "energy = '*'+'eV'\n",
    "polarization = '*'\n",
    "temp = '*'\n",
    "e_pass = '*'+'eVpass'\n",
    "comment = ''\n",
    "run = '*'.zfill(4)\n",
    "\n",
    "# Put together string for finding file\n",
    "phi = phi.replace('+', 'P').replace('-', 'M').replace('.', 'p')\n",
    "energy = energy.replace('.', 'p')\n",
    "parameters = [scan_type, direction, phi, energy, polarization, temp, e_pass, comment, run]\n",
    "if comment == '':\n",
    "    parameters.remove(comment)\n",
    "file_type = 'h5'\n",
    "file_name = '_'.join(parameters)\n",
    "file = '.'.join([file_name , file_type])\n",
    "\n",
    "full_file = os.path.join(path, file)\n",
    "file"
   ]
  },
  {
   "cell_type": "code",
   "execution_count": null,
   "id": "efcf54c1-fcb4-4984-8c07-014b4d917cbe",
   "metadata": {},
   "outputs": [],
   "source": [
    "import glob\n",
    "# Load all files with above specified parameters, * is a placeholder and imports all files in its place\n",
    "files = glob.glob(full_file)\n",
    "print(len(files))\n",
    "files"
   ]
  },
  {
   "cell_type": "code",
   "execution_count": null,
   "id": "af82ebb0-24e6-4361-be0f-fb034066e008",
   "metadata": {},
   "outputs": [],
   "source": [
    "data_list = {}\n",
    "for file in files:\n",
    "    #data_list.append(load_data(file, location=\"ULTRA\"))\n",
    "    data = load_data(file, location=\"ULTRA\")\n",
    "    file_name = file.replace(path, '')[1:-3]\n",
    "    data_list.update({file_name : data})"
   ]
  },
  {
   "cell_type": "code",
   "execution_count": null,
   "id": "1538f42d-f851-430b-9361-07941be78988",
   "metadata": {},
   "outputs": [],
   "source": [
    "import matplotlib.pyplot as plt\n",
    "import math\n",
    "rows = math.ceil(len(data_list) / 2)\n",
    "fig, ax = plt.subplots(rows, 2, figsize=(14, 6*rows))\n",
    "    \n",
    "for key in data_list.keys():\n",
    "    data = data_list[key].spectrum\n",
    "    fs = data.sel(eV=slice(-0.02,0.02)).sum(\"eV\")\n",
    "    fs.plot(ax=ax.ravel()[list(data_list).index(key)])\n",
    "    ax.ravel()[list(data_list).index(key)].set_title(f\"{key}\")\n",
    "\n",
    "plt.tight_layout(rect=[0, 0.03, 1, 0.98])"
   ]
  }
 ],
 "metadata": {
  "kernelspec": {
   "display_name": "pyarpes_kernel",
   "language": "python",
   "name": "arpes"
  },
  "language_info": {
   "codemirror_mode": {
    "name": "ipython",
    "version": 3
   },
   "file_extension": ".py",
   "mimetype": "text/x-python",
   "name": "python",
   "nbconvert_exporter": "python",
   "pygments_lexer": "ipython3",
   "version": "3.8.13"
  }
 },
 "nbformat": 4,
 "nbformat_minor": 5
}
