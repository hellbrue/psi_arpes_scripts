{
 "cells": [
  {
   "cell_type": "code",
   "execution_count": null,
   "id": "eb921d02-b2e7-4384-9ec5-90672d832661",
   "metadata": {},
   "outputs": [],
   "source": [
    "from arpes.io import load_data\n",
    "import os.path"
   ]
  },
  {
   "cell_type": "markdown",
   "id": "420b4e87-757e-4dd1-b120-5e473837650f",
   "metadata": {},
   "source": [
    "# First Overview of Bi2223 data from the 2nd Beamtime at PSI (Sample 4)\n",
    "In this notebook I show a first summary of all the data we took at the second beamtime on the Bi2223 crystal Sample 4.\n",
    "This contains an EDC at normal emission, multiple EDCs extracted in one scan at different Tilt angles and FS maps."
   ]
  },
  {
   "cell_type": "markdown",
   "id": "408235cf-9113-4063-a2ad-91847e032ca4",
   "metadata": {},
   "source": [
    "## EDC of Bi2223 (Normal Emission)"
   ]
  },
  {
   "cell_type": "code",
   "execution_count": null,
   "id": "d93304a9-0b40-4718-bd1a-80f0866f1cf0",
   "metadata": {},
   "outputs": [],
   "source": [
    "# Define directory\n",
    "path = os.path.abspath(\"G:\\My Drive\\Bi2223\\e19557\\Beamtime2\\Sample4\\Bi2223\")\n",
    "\n",
    "# Different parameters used to set up scans at SLS\n",
    "scan_type = 'EDC'\n",
    "direction = '*'\n",
    "phi = '*'\n",
    "energy = '*'+'eV'\n",
    "polarization = '*'\n",
    "temp = '*'\n",
    "e_pass = '*'+'eVpass'\n",
    "comment = ''\n",
    "run = '*'.zfill(4)\n",
    "\n",
    "# Put together string for finding file\n",
    "phi = phi.replace('+', 'P').replace('-', 'M').replace('.', 'p')\n",
    "energy = energy.replace('.', 'p')\n",
    "parameters = [scan_type, direction, phi, energy, polarization, temp, e_pass, comment, run]\n",
    "if comment == '':\n",
    "    parameters.remove(comment)\n",
    "file_type = 'h5'\n",
    "file_name = '_'.join(parameters)\n",
    "file = '.'.join([file_name , file_type])\n",
    "\n",
    "full_file = os.path.join(path, file)\n",
    "file"
   ]
  },
  {
   "cell_type": "code",
   "execution_count": null,
   "id": "e9e9abc6-938c-4707-a880-fad8c06ce9b7",
   "metadata": {},
   "outputs": [],
   "source": [
    "import glob\n",
    "# Load all files with above specified parameters, * is a placeholder and imports all files in its place\n",
    "files = glob.glob(full_file)\n",
    "print(len(files))\n",
    "files"
   ]
  },
  {
   "cell_type": "code",
   "execution_count": null,
   "id": "77c82b3c-cedf-4414-bf57-84c30e57c317",
   "metadata": {},
   "outputs": [],
   "source": [
    "data_list = {}\n",
    "for file in files:\n",
    "    #data_list.append(load_data(file, location=\"ULTRA\"))\n",
    "    data = load_data(file, location=\"ULTRA\")\n",
    "    file_name = file.replace(path, '')[1:-3]\n",
    "    data_list.update({file_name : data})"
   ]
  },
  {
   "cell_type": "code",
   "execution_count": null,
   "id": "7ba7a4d2-44be-4ccc-8e43-ccd532c68f7b",
   "metadata": {},
   "outputs": [],
   "source": [
    "import matplotlib.pyplot as plt\n",
    "import math\n",
    "rows = math.ceil(len(data_list) / 3)\n",
    "fig, ax = plt.subplots(rows, 3, figsize=(14, 6*rows))\n",
    "    \n",
    "for key in data_list.keys():\n",
    "    data_list[key].spectrum.S.plot(ax=ax.ravel()[list(data_list).index(key)])\n",
    "    ax.ravel()[list(data_list).index(key)].set_title(f\"{key}\")\n",
    "\n",
    "plt.tight_layout(rect=[0, 0.03, 1, 0.98])"
   ]
  },
  {
   "cell_type": "markdown",
   "id": "fd6e2482-b826-473a-b4b8-fd85d7272413",
   "metadata": {},
   "source": [
    "## EDCs of Bi2223 at different Tilt angles"
   ]
  },
  {
   "cell_type": "code",
   "execution_count": null,
   "id": "318edc96-2aa0-4139-a493-2da22000895d",
   "metadata": {},
   "outputs": [],
   "source": [
    "# Define directory\n",
    "path = os.path.abspath(\"G:\\My Drive\\Bi2223\\e19557\\Beamtime2\\Sample4\\Bi2223\")\n",
    "\n",
    "# Different parameters used to set up scans at SLS\n",
    "scan_type = 'FS'\n",
    "direction = '*'\n",
    "phi = '*'\n",
    "energy = '*'\n",
    "polarization = '*'\n",
    "temp = '*'\n",
    "e_pass = '*'+'eVpass'\n",
    "comment = '*'\n",
    "run = '*'.zfill(4)\n",
    "\n",
    "# Put together string for finding file\n",
    "parameters = [scan_type, direction, phi, energy, polarization, temp, e_pass, comment, run]\n",
    "if comment == '':\n",
    "    parameters.remove(comment)\n",
    "file_type = 'h5'\n",
    "file_name = '_'.join(parameters)\n",
    "file = '.'.join([file_name , file_type])\n",
    "\n",
    "full_file = os.path.join(path, file)\n",
    "file"
   ]
  },
  {
   "cell_type": "code",
   "execution_count": null,
   "id": "4b49c944-8530-489f-911f-5e01b5667757",
   "metadata": {},
   "outputs": [],
   "source": [
    "import glob\n",
    "# Load all files with above specified parameters, * is a placeholder and imports all files in its place\n",
    "files = glob.glob(full_file)\n",
    "print(len(files))\n",
    "files"
   ]
  },
  {
   "cell_type": "code",
   "execution_count": null,
   "id": "0e9f0a91-c7cc-45d1-aab7-8335bef4c9f5",
   "metadata": {},
   "outputs": [],
   "source": [
    "data_list = {}\n",
    "for file in files:\n",
    "    #data_list.append(load_data(file, location=\"ULTRA\"))\n",
    "    data = load_data(file, location=\"ULTRA\")\n",
    "    file_name = file.replace(path, '')[1:-3]\n",
    "    data_list.update({file_name : data})"
   ]
  },
  {
   "cell_type": "code",
   "execution_count": null,
   "id": "27dc3f6f-51dc-43f2-8e89-54f2d88466f1",
   "metadata": {},
   "outputs": [],
   "source": [
    "import matplotlib.pyplot as plt\n",
    "import math\n",
    "rows = math.ceil(len(data_list) / 2)\n",
    "fig, ax = plt.subplots(rows, 2, figsize=(14, 6*rows))\n",
    "fig.suptitle('Tilt Scan Sample 4 Beamtime 2', fontsize=20)\n",
    "    \n",
    "for key in data_list.keys():\n",
    "    data = data_list[key].spectrum\n",
    "    fs = data.sel(eV=slice(-0.02,0.02)).sum(\"eV\")\n",
    "    fs.plot(ax=ax.ravel()[list(data_list).index(key)])\n",
    "    ax.ravel()[list(data_list).index(key)].set_title(f\"{key}\")\n",
    "\n",
    "plt.tight_layout(rect=[0, 0.03, 1, 0.98])"
   ]
  },
  {
   "cell_type": "code",
   "execution_count": null,
   "id": "6af76b9e-7c56-4ab7-930b-50850f860d7f",
   "metadata": {},
   "outputs": [],
   "source": [
    "fig, ax = plt.subplots(2, 2, figsize=(14, 12))\n",
    "fig.suptitle('Tilt dependent measurement Sample 4 Beamtime 2 ', fontsize=20)\n",
    "\n",
    "edc = data_list[\"FS_N_M6_26p5eV_CIRCM_LT_20eVpass_Tiltdep_0000\"]\n",
    "i = 0\n",
    "for tilts in edc.coords[\"tilt\"]:\n",
    "    edc.sel(tilt=tilts).S.plot(ax=ax.ravel()[i])\n",
    "    ax.ravel()[i].set_title(f\"{tilts}\")\n",
    "    i += 1\n",
    "\n",
    "plt.tight_layout(rect=[0, 0.03, 1, 0.98])"
   ]
  },
  {
   "cell_type": "markdown",
   "id": "a62db341-b83a-44b7-b65b-601fc8c8ca89",
   "metadata": {
    "tags": []
   },
   "source": [
    "## FS maps of Bi2223"
   ]
  },
  {
   "cell_type": "code",
   "execution_count": null,
   "id": "8d30a356-bf97-4363-9008-5de3535763bc",
   "metadata": {},
   "outputs": [],
   "source": [
    "# Define directory\n",
    "path = os.path.abspath(\"G:\\My Drive\\Bi2223\\e19557\\Beamtime2\\Sample4\\Bi2223\")\n",
    "\n",
    "# Different parameters used to set up scans at SLS\n",
    "scan_type = 'FS'\n",
    "direction = '*'\n",
    "phi = '*'\n",
    "energy = '*'+'eV'\n",
    "polarization = '*'\n",
    "temp = '*'\n",
    "e_pass = '*'+'eVpass'\n",
    "comment = ''\n",
    "run = '*'.zfill(4)\n",
    "\n",
    "# Put together string for finding file\n",
    "phi = phi.replace('+', 'P').replace('-', 'M').replace('.', 'p')\n",
    "energy = energy.replace('.', 'p')\n",
    "parameters = [scan_type, direction, phi, energy, polarization, temp, e_pass, comment, run]\n",
    "if comment == '':\n",
    "    parameters.remove(comment)\n",
    "file_type = 'h5'\n",
    "file_name = '_'.join(parameters)\n",
    "file = '.'.join([file_name , file_type])\n",
    "\n",
    "full_file = os.path.join(path, file)\n",
    "file"
   ]
  },
  {
   "cell_type": "code",
   "execution_count": null,
   "id": "c73e9d58-a239-4046-bf3f-4c8a9520aea6",
   "metadata": {},
   "outputs": [],
   "source": [
    "import glob\n",
    "# Load all files with above specified parameters, * is a placeholder and imports all files in its place\n",
    "files = glob.glob(full_file)\n",
    "print(len(files))\n",
    "files"
   ]
  },
  {
   "cell_type": "code",
   "execution_count": null,
   "id": "1c9096f6-7c85-4a7e-ba7b-46cad3910547",
   "metadata": {},
   "outputs": [],
   "source": [
    "data_list = {}\n",
    "for file in files:\n",
    "    #data_list.append(load_data(file, location=\"ULTRA\"))\n",
    "    data = load_data(file, location=\"ULTRA\")\n",
    "    file_name = file.replace(path, '')[1:-3]\n",
    "    data_list.update({file_name : data})"
   ]
  },
  {
   "cell_type": "code",
   "execution_count": null,
   "id": "0ed8cf6e-15d8-4653-a85f-57ba04fc4bd5",
   "metadata": {},
   "outputs": [],
   "source": [
    "import matplotlib.pyplot as plt\n",
    "import math\n",
    "rows = math.ceil(len(data_list) / 2)\n",
    "fig, ax = plt.subplots(rows, 2, figsize=(14, 6*rows))\n",
    "fig.suptitle('Overview of Bi2223 FS Sample 4 2. Beamtime', fontsize=20)\n",
    "    \n",
    "for key in data_list.keys():\n",
    "    data = data_list[key].spectrum\n",
    "    fs = data.sel(eV=slice(-0.02,0.02)).sum(\"eV\")\n",
    "    fs.plot(ax=ax.ravel()[list(data_list).index(key)])\n",
    "    ax.ravel()[list(data_list).index(key)].set_title(f\"{key}\")\n",
    "\n",
    "plt.tight_layout(rect=[0, 0.03, 1, 0.98])"
   ]
  }
 ],
 "metadata": {
  "kernelspec": {
   "display_name": "pyarpes_kernel",
   "language": "python",
   "name": "arpes"
  },
  "language_info": {
   "codemirror_mode": {
    "name": "ipython",
    "version": 3
   },
   "file_extension": ".py",
   "mimetype": "text/x-python",
   "name": "python",
   "nbconvert_exporter": "python",
   "pygments_lexer": "ipython3",
   "version": "3.8.13"
  }
 },
 "nbformat": 4,
 "nbformat_minor": 5
}
