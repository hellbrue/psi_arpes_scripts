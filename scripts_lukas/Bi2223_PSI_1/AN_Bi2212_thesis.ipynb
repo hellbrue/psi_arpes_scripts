{
 "cells": [
  {
   "cell_type": "code",
   "execution_count": null,
   "metadata": {},
   "outputs": [],
   "source": [
    "%load_ext autoreload\n",
    "%autoreload 2\n",
    "from arpes.all import *\n",
    "import os.path\n",
    "import matplotlib.pyplot as plt\n",
    "import matplotlib.patches as patches\n",
    "import math\n",
    "import numpy as np\n",
    "%matplotlib inline"
   ]
  },
  {
   "cell_type": "code",
   "execution_count": null,
   "metadata": {},
   "outputs": [],
   "source": [
    "# Define directory\n",
    "path = os.path.abspath(r'C:\\Users\\hellbrue\\Documents\\Bi2212')\n",
    "\n",
    "# Different parameters used to set up scans at SLS\n",
    "scan_type = '*'\n",
    "direction = 'X'\n",
    "phi = '*'\n",
    "energy = 'eV'\n",
    "polarization = '*'\n",
    "temp = '*'\n",
    "e_pass = '*'+'eVpass'\n",
    "comment = '*'\n",
    "run = '*'.zfill(4)\n",
    "\n",
    "# Put together string for finding file\n",
    "parameters = [scan_type, direction, phi, energy, polarization, temp, e_pass, comment, run]\n",
    "if comment == '':\n",
    "    parameters.remove(comment)\n",
    "file_type = 'h5'\n",
    "file_name = '_'.join(parameters)\n",
    "file = '.'.join([file_name , file_type])\n",
    "\n",
    "au_full_file = os.path.join(path, file)\n",
    "file"
   ]
  },
  {
   "cell_type": "code",
   "execution_count": null,
   "metadata": {},
   "outputs": [],
   "source": [
    "import glob\n",
    "# Load all files with above specified parameters, * is a placeholder and imports all files in its place\n",
    "au_files = glob.glob(au_full_file)\n",
    "print(len(au_files))\n",
    "au_files"
   ]
  },
  {
   "cell_type": "code",
   "execution_count": 324,
   "metadata": {},
   "outputs": [],
   "source": [
    "au_raw_data_list = {}\n",
    "for file in au_files:\n",
    "    #data_list.append(load_data(file, location=\"ULTRA\"))\n",
    "    data = load_data(file, location=\"ULTRA\")\n",
    "    # k_data = convert_to_kspace(data.spectrum)\n",
    "    file_name = file.replace(path, '')[1:-3]\n",
    "    au_raw_data_list.update({file_name : data})"
   ]
  },
  {
   "cell_type": "markdown",
   "metadata": {},
   "source": [
    "poly Au used to determine Fermi level. Determine Fermiedge and apply to data below"
   ]
  },
  {
   "cell_type": "code",
   "execution_count": null,
   "metadata": {},
   "outputs": [],
   "source": [
    "au_lt = au_raw_data_list['EDC_X_M0_eV_CIRCP_LT_25eVpass_GoldRef 3_0000']\n",
    "au_lt.S.plot()"
   ]
  },
  {
   "cell_type": "code",
   "execution_count": null,
   "metadata": {},
   "outputs": [],
   "source": [
    "from arpes.analysis.general import rebin\n",
    "\n",
    "binned = rebin(au_lt, phi=10).spectrum\n",
    "binned.plot()"
   ]
  },
  {
   "cell_type": "code",
   "execution_count": null,
   "metadata": {},
   "outputs": [],
   "source": [
    "from arpes.all import AffineBroadenedFD, broadcast_model\n",
    "fermi_level = binned.sel(phi=slice(-0.2,0.2), eV=slice(-0.2,0.1))\n",
    "results = broadcast_model(AffineBroadenedFD, fermi_level, \"phi\")\n",
    "\n",
    "fig, ax = plt.subplots()\n",
    "fermi_level.plot(ax=ax)\n",
    "ax.scatter(*results.F.p(\"fd_center\").G.to_arrays(), color=\"red\")\n",
    "ax.axhline(y=0, color='k', linestyle='--', linewidth=1)"
   ]
  },
  {
   "cell_type": "code",
   "execution_count": null,
   "metadata": {},
   "outputs": [],
   "source": [
    "from arpes.fits.fit_models import LinearModel\n",
    "lin_mod = LinearModel().guess_fit(results.F.p(\"fd_center\"))\n",
    "lin_mod.plot()\n",
    "plt.show()"
   ]
  },
  {
   "cell_type": "code",
   "execution_count": null,
   "metadata": {},
   "outputs": [],
   "source": [
    "edc = au_lt.spectrum\n",
    "edge = lin_mod.eval(x=edc.phi)\n",
    "\n",
    "corrected_edc = edc.G.shift_by(edge, \"eV\")\n",
    "\n",
    "fig, axes = plt.subplots(1, 2, figsize=(10, 5))\n",
    "corrected_edc.plot(ax=axes[0], vmax=100)\n",
    "edc.plot(ax=axes[1], vmax=200)\n",
    "# plot vertical lines for y = 0\n",
    "for ax in axes:\n",
    "    ax.set_title(\"\")\n",
    "    ax.axhline(y=0, color='k', linestyle='--', linewidth=1)"
   ]
  },
  {
   "cell_type": "code",
   "execution_count": null,
   "metadata": {},
   "outputs": [],
   "source": [
    "# Define directory\n",
    "path = os.path.abspath(r'C:\\Users\\hellbrue\\Documents\\Bi2212')\n",
    "\n",
    "# Different parameters used to set up scans at SLS\n",
    "scan_type = 'FS'\n",
    "direction = 'AN'\n",
    "phi = 'P16p5'\n",
    "energy = '*'\n",
    "polarization = '*'\n",
    "temp = '*'\n",
    "e_pass = '*'+'eVpass'\n",
    "comment = ''\n",
    "run = '*'.zfill(4)\n",
    "\n",
    "# Put together string for finding file\n",
    "parameters = [scan_type, direction, phi, energy, polarization, temp, e_pass, comment, run]\n",
    "if comment == '':\n",
    "    parameters.remove(comment)\n",
    "file_type = 'h5'\n",
    "file_name = '_'.join(parameters)\n",
    "file = '.'.join([file_name , file_type])\n",
    "\n",
    "bi2223_full_file = os.path.join(path, file)\n",
    "file"
   ]
  },
  {
   "cell_type": "code",
   "execution_count": null,
   "metadata": {},
   "outputs": [],
   "source": [
    "import glob\n",
    "# Load all files with above specified parameters, * is a placeholder and imports all files in its place\n",
    "bi2223_files = glob.glob(bi2223_full_file)\n",
    "print(len(bi2223_files))\n",
    "bi2223_files"
   ]
  },
  {
   "cell_type": "code",
   "execution_count": 332,
   "metadata": {},
   "outputs": [],
   "source": [
    "# values for offset beta = 0.03\n",
    "kp8 = np.array([-0.410, -0.410, -0.410, -0.410, -0.410])\n",
    "kp9 = np.array([-0.452, -0.452, -0.452, -0.452, -0.452])\n",
    "kp10 = np.array([-0.494, -0.494, -0.494, -0.494, -0.494])\n",
    "kp11 = np.array([-0.535, -0.535, -0.535, -0.535, -0.535])\n",
    "kp_list = np.array([kp8, kp9, kp10, kp11])\n",
    "kps = abs(kp_list.T[0])\n",
    "\n",
    "kx8_fit = np.array([0.439, 0.438, 0.437, 0.436, 0.435])\n",
    "kx9_fit = np.array([0.396, 0.393, 0.39 , 0.387, 0.384])\n",
    "kx10_fit = np.array([0.371, 0.365, 0.359, 0.353, 0.347])\n",
    "kx11_fit = np.array([0.347, 0.331, 0.315, 0.299, 0.283])\n",
    "kx_fit_list = np.array([kx8_fit, kx9_fit, kx10_fit, kx11_fit])\n",
    "kx_fit_fl = kx_fit_list.T"
   ]
  },
  {
   "cell_type": "code",
   "execution_count": 591,
   "metadata": {},
   "outputs": [],
   "source": [
    "bi2223_data_list = {}\n",
    "for file in bi2223_files:\n",
    "    #data_list.append(load_data(file, location=\"ULTRA\"))\n",
    "    raw_data = load_data(file, location=\"ULTRA\")\n",
    "    edge = lin_mod.eval(x=raw_data.spectrum.phi)\n",
    "    corrected_data = raw_data.spectrum.G.shift_by(edge, \"eV\")\n",
    "    corrected_data.S.apply_offsets({\"beta\": -0.003, \"chi\": -0.79, \"phi\": -0.007})\n",
    "    binned = rebin(corrected_data, phi=2, beta=2, eV=2)\n",
    "    k_data = convert_to_kspace(binned)\n",
    "    file_name = file.replace(path, '')[1:-3]\n",
    "    bi2223_data_list.update({file_name : k_data})"
   ]
  },
  {
   "cell_type": "markdown",
   "metadata": {},
   "source": [
    "Initalize datasets"
   ]
  },
  {
   "cell_type": "code",
   "execution_count": 592,
   "metadata": {},
   "outputs": [],
   "source": [
    "lt_an_p20 = bi2223_data_list['FS_AN_P16p5_25eV_CIRCP_LT_20eVpass_0000']\n"
   ]
  },
  {
   "cell_type": "code",
   "execution_count": null,
   "metadata": {},
   "outputs": [],
   "source": [
    "fig, ax = plt.subplots(1, 1, figsize=(6, 5))\n",
    "lt_an_p20.sel(eV=slice(-0.1,0.1), kx=slice(0,0.6)).sum(\"eV\").plot(ax=ax, cmap='viridis')\n",
    "\n",
    "plt.title('')\n",
    "plt.tick_params(axis='both', which='major', labelsize=16)\n",
    "\n",
    "for kx, ky in zip(kx_fit_fl[0], kp_list.T[0]):\n",
    "    plt.scatter(kx/2, ky, color='red', s=50, marker='x')\n",
    "    plt.scatter(kx/2, -ky, color='red', s=50, marker='x')\n",
    "    plt.scatter(-kx/2, ky, color='red', s=50, marker='x')\n",
    "    plt.scatter(-kx/2, -ky, color='red', s=50, marker='x')\n",
    "\n",
    "ax.axhline(y=-0.2, color='k', linestyle='--', linewidth=1)\n",
    "ax.axhline(y=0.2, color='k', linestyle='--', linewidth=1)\n",
    "ax.axvline(x=-0.2, color='k', linestyle='--', linewidth=1)\n",
    "ax.axvline(x=0.2, color='k', linestyle='--', linewidth=1)\n",
    "\n",
    "ax.collections[0].colorbar.remove()\n",
    "cbar = plt.colorbar(ax.collections[0], ax=ax)\n",
    "cbar.set_label('Intensity', fontsize=16, labelpad=5)\n",
    "cbar.set_ticks([])\n",
    "# set x and y axis to be equal\n",
    "# plt.gca().set_aspect('equal', adjustable='box')\n",
    "plt.xlim(-0.58, 0.58)\n",
    "# plt.ylim(0, 0.54)\n",
    "plt.show()"
   ]
  },
  {
   "cell_type": "code",
   "execution_count": 594,
   "metadata": {},
   "outputs": [],
   "source": [
    "import copy\n",
    "\n",
    "symm_set = copy.deepcopy(lt_an_p20.sel(ky=slice(-0.55,0.55), kx=slice(0,0.6)))\n",
    "\n",
    "symm_set_adj = symm_set.assign_coords(ky=np.round(symm_set.coords[\"ky\"], 2))\n",
    "\n",
    "# Assign negative kx and ky values for symmetry\n",
    "data_inverted_x = symm_set_adj.assign_coords(kx=-symm_set_adj.coords[\"kx\"])\n",
    "data_inverted_xy = symm_set_adj.assign_coords(ky=-symm_set_adj.coords[\"ky\"], kx=-symm_set_adj.coords[\"kx\"])\n",
    "\n",
    "\n",
    "sel_neg = data_inverted_xy.sel(kx=slice(-0.6,-0.0,-1), ky=slice(-0.55,0.55,-1))\n",
    "sel_pos = symm_set_adj.sel(kx=slice(0.0,0.6), ky=slice(-0.55,0.55))\n",
    "\n",
    "boundary_region = 5  # Number of points to average around the boundary\n",
    "\n",
    "# Take the last few points of data_part1 and first few points of data_part2\n",
    "data_part1_end = sel_neg.isel(kx=slice(-boundary_region, None))\n",
    "data_part2_start = sel_pos.isel(kx=slice(0, boundary_region))\n",
    "\n",
    "# Compute the average\n",
    "transition_data = 0.5 * (data_part1_end + data_part2_start)\n",
    "\n",
    "# stitched_data = xr.concat([sel_neg, transition_data, sel_pos], dim=\"kx\")\n",
    "stitched_data = xr.concat([sel_neg.isel(kx=slice(None, -boundary_region)), \n",
    "                           transition_data, \n",
    "                           sel_pos.isel(kx=slice(boundary_region, None))], dim='kx')\n",
    "\n",
    "common_kx = np.linspace(stitched_data['kx'].min(), stitched_data['kx'].max(), num=300)\n",
    "common_ky = np.linspace(stitched_data['ky'].min(), stitched_data['ky'].max(), num=300)\n",
    "\n",
    "# Interpolate both datasets onto the common grid\n",
    "stitched_data_interp = stitched_data.interp(kx=common_kx, ky=common_ky)\n"
   ]
  },
  {
   "cell_type": "code",
   "execution_count": null,
   "metadata": {},
   "outputs": [],
   "source": [
    "fig, ax = plt.subplots(1, 1, figsize=(6, 5))\n",
    "stitched_data.sel(eV=slice(-0.05,0.05)).sum(\"eV\").plot(ax=ax, cmap='BuPu_r', vmin=200, vmax=2500, add_colorbar=False)\n",
    "\n",
    "ax.set_title('')\n",
    "ax.set_xlabel(r'k$_x$ ($\\AA^{-1}$)', fontsize=16)\n",
    "ax.set_ylabel(r'k$_y$ ($\\AA^{-1}$)', fontsize=16)\n",
    "plt.tick_params(axis='both', which='major', labelsize=14)\n",
    "cbar = plt.colorbar(ax.collections[0], ax=ax)\n",
    "cbar.set_label('Intensity', fontsize=16, labelpad=5)\n",
    "cbar.set_ticks([])\n",
    "plt.gca().set_aspect('equal', adjustable='box')\n",
    "plt.ylim(-0.6, 0.6)\n",
    "plt.xlim(-0.6, 0.6)\n",
    "\n",
    "plt.show()"
   ]
  },
  {
   "cell_type": "code",
   "execution_count": null,
   "metadata": {},
   "outputs": [],
   "source": [
    "fig, ax = plt.subplots(1, 1, figsize=(6, 5))\n",
    "stitched_data.sel(eV=slice(-0.05,0.05), ky=slice(-0.54,0.54)).sum(\"eV\").plot(ax=ax, cmap='BuPu_r', vmin=200, vmax=2500, add_colorbar=False)\n",
    "\n",
    "for kx, ky in zip(kx_fit_fl[0], kp_list.T[0]):\n",
    "    ax.scatter(kx/2, ky, color='k', s=50, marker='x')\n",
    "    ax.scatter(kx/2, -ky, color='k', s=50, marker='x')\n",
    "    ax.scatter(-kx/2, ky, color='k', s=50, marker='x')\n",
    "    ax.scatter(-kx/2, -ky, color='k', s=50, marker='x')\n",
    "for ky, kx in zip(kx_fit_fl[0], kp_list.T[0]):\n",
    "    ax.scatter(kx, ky/2, color='k', s=50, marker='x')\n",
    "    ax.scatter(kx, -ky/2, color='k', s=50, marker='x')\n",
    "    ax.scatter(-kx, ky/2, color='k', s=50, marker='x')\n",
    "    ax.scatter(-kx, -ky/2, color='k', s=50, marker='x')\n",
    "\n",
    "ax.set_title('')\n",
    "ax.set_xlabel(r'k$_x$ ($\\AA^{-1}$)', fontsize=16)\n",
    "ax.set_ylabel(r'k$_y$ ($\\AA^{-1}$)', fontsize=16)\n",
    "plt.tick_params(axis='both', which='major', labelsize=14)\n",
    "cbar = plt.colorbar(ax.collections[0], ax=ax)\n",
    "cbar.set_label('Intensity', fontsize=16, labelpad=5)\n",
    "cbar.set_ticks([])\n",
    "plt.gca().set_aspect('equal', adjustable='box')\n",
    "\n",
    "plt.show()"
   ]
  },
  {
   "cell_type": "code",
   "execution_count": null,
   "metadata": {},
   "outputs": [],
   "source": [
    "fig, ax = plt.subplots(1, 1, figsize=(6, 5))\n",
    "stitched_data.sel(eV=slice(-0.05,0.05), ky=slice(-0.54,0.54)).sum(\"eV\").plot(ax=ax, cmap='BuPu_r', vmin=200, vmax=2500, add_colorbar=False)\n",
    "\n",
    "plt.title('')\n",
    "plt.tick_params(axis='both', which='major', labelsize=16)\n",
    "cmap = plt.get_cmap('RdBu_r')\n",
    "colors = [cmap(i) for i in np.linspace(0, 1, 10)]\n",
    "del colors[4:7]\n",
    "del colors[0]\n",
    "del colors[-1]\n",
    "\n",
    "i=0\n",
    "for kx, ky in zip(kx_fit_fl, kp_list.T):\n",
    "    plt.scatter(kx/2, ky, color=colors[i], s=50, marker='x')\n",
    "    plt.scatter(kx/2, -ky, color=colors[i], s=50, marker='x')\n",
    "    plt.scatter(-kx/2, ky, color=colors[i], s=50, marker='x')\n",
    "    plt.scatter(-kx/2, -ky, color=colors[i], s=50, marker='x')\n",
    "    i+=1\n",
    "i=0\n",
    "for ky, kx in zip(kx_fit_fl, kp_list.T):\n",
    "    plt.scatter(kx, ky/2, color=colors[i], s=50, marker='x')\n",
    "    plt.scatter(kx, -ky/2, color=colors[i], s=50, marker='x')\n",
    "    plt.scatter(-kx, ky/2, color=colors[i], s=50, marker='x')\n",
    "    plt.scatter(-kx, -ky/2, color=colors[i], s=50, marker='x')\n",
    "    i+=1\n",
    "\n",
    "cbar = plt.colorbar(ax.collections[0], ax=ax)\n",
    "cbar.set_label('Intensity', fontsize=16, labelpad=5)\n",
    "cbar.set_ticks([])\n",
    "# set x and y axis to be equal\n",
    "plt.gca().set_aspect('equal', adjustable='box')\n",
    "plt.xlim(-0.54, 0.54)\n",
    "plt.ylim(-0.58, 0.58)\n",
    "plt.show()"
   ]
  },
  {
   "cell_type": "code",
   "execution_count": null,
   "metadata": {},
   "outputs": [],
   "source": [
    "fig, ax = plt.subplots(1, 1, figsize=(6, 5))\n",
    "lt_an_p20.sel(eV=slice(-0.05,0.05)).sum(\"eV\").plot(ax=ax, cmap='BuPu_r', vmin=200, vmax=2500, add_colorbar=False)\n",
    "\n",
    "plt.title('')\n",
    "plt.tick_params(axis='both', which='major', labelsize=16)\n",
    "cmap = plt.get_cmap('RdBu_r')\n",
    "colors = [cmap(i) for i in np.linspace(0, 1, 10)]\n",
    "del colors[4:7]\n",
    "del colors[0]\n",
    "del colors[-1]\n",
    "\n",
    "i=0\n",
    "for kx, ky in zip(kx_fit_fl, kp_list.T):\n",
    "    plt.scatter(-kx/2, -ky, color=colors[i], s=50, marker='x')\n",
    "    plt.scatter(ky, kx/2, color=colors[i], s=50, marker='x')\n",
    "    i+=1\n",
    "\n",
    "cbar = plt.colorbar(ax.collections[0], ax=ax)\n",
    "cbar.set_label('Intensity', fontsize=16, labelpad=5)\n",
    "cbar.set_ticks([])\n",
    "# set x and y axis to be equal\n",
    "# plt.gca().set_aspect('equal', adjustable='box')\n",
    "plt.xlim(-0.54, 0)\n",
    "plt.ylim(0, 0.57)\n",
    "ax.set_title('')\n",
    "ax.set_xlabel(r'k$_x$ ($\\AA^{-1}$)', fontsize=16)\n",
    "ax.set_ylabel(r'k$_y$ ($\\AA^{-1}$)', fontsize=16)\n",
    "plt.tick_params(axis='both', which='major', labelsize=14)\n",
    "plt.show()"
   ]
  },
  {
   "cell_type": "markdown",
   "metadata": {},
   "source": [
    "Overview of the LT P5 Dataset"
   ]
  },
  {
   "cell_type": "code",
   "execution_count": null,
   "metadata": {},
   "outputs": [],
   "source": [
    "fig, ax = plt.subplots(1, 1, figsize=(6, 5))\n",
    "lt_an_p20.sel(eV=slice(-0.02,0.02)).sum(\"eV\").plot(ax=ax, cmap='viridis')\n",
    "\n",
    "# plt.ylim(-0.56, 0)\n",
    "# plt.xlim(-0, 0.56)\n",
    "plt.title('')\n",
    "# plt.ylabel('$k_y$ ($\\AA^{-1}$)', fontsize=18)\n",
    "# plt.xlabel('$k_x$ ($\\AA^{-1}$)', fontsize=18)\n",
    "plt.tick_params(axis='both', which='major', labelsize=16)\n",
    "# plt.yticks(np.arange(-0.4, 0.5, 0.2))\n",
    "# plt.xticks(np.arange(-0.4, 0.5, 0.2))\n",
    "\n",
    "kys = [0.55, 0.5, 0.45, 0.4, 0.35, 0.30, 0.25, 0.22, 0.2]\n",
    "kxs = [0.2, 0.21, 0.23, 0.26, 0.3, 0.35, 0.4, 0.45, 0.51]\n",
    "for kx, ky in zip(kxs, kys):\n",
    "    plt.scatter(ky, kx, color='red', s=50, marker='x')\n",
    "\n",
    "ax.collections[0].colorbar.remove()\n",
    "cbar = plt.colorbar(ax.collections[0], ax=ax)\n",
    "cbar.set_label('Intensity', fontsize=16, labelpad=5)\n",
    "cbar.set_ticks([])\n",
    "# set x and y axis to be equal\n",
    "plt.gca().set_aspect('equal', adjustable='box')\n",
    "plt.show()"
   ]
  },
  {
   "cell_type": "code",
   "execution_count": 15,
   "metadata": {},
   "outputs": [],
   "source": [
    "def normalize(data):\n",
    "    return (data - data.sel(eV=slice(0.05,0.07)).mean(\"eV\")) / max(data.values)"
   ]
  },
  {
   "cell_type": "code",
   "execution_count": null,
   "metadata": {},
   "outputs": [],
   "source": [
    "fig, ax = plt.subplots(1, 1, figsize=(6,5))\n",
    "\n",
    "cmap = plt.get_cmap('copper')\n",
    "colors = [cmap(i) for i in np.linspace(0, 1, 5)]\n",
    "\n",
    "edc_an = lt_an_p20.sel(eV=slice(-0.74,0.1), kx=slice(0.51,0.59), ky=slice(0.16,0.23)).sum(\"kx\").sum(\"ky\")\n",
    "edc_n = lt_an_p20.sel(eV=slice(-0.74,0.1), ky=slice(0.27,0.33), kx=slice(0.31,0.39)).sum(\"kx\").sum(\"ky\")\n",
    "au_ref =binned.sel(eV=slice(-0.74,0.1), phi=slice(-0.05,0.05)).sum(\"phi\")\n",
    "\n",
    "normalize(au_ref).plot(ax=ax, label='Gold Ref', marker='o', markeredgewidth=1, markerfacecolor='none', markeredgecolor=colors[1], color=colors[1])\n",
    "normalize(edc_n).plot(ax=ax, label='Node', marker='o', markeredgewidth=1, markerfacecolor='none', markeredgecolor=colors[2], color=colors[2])\n",
    "normalize(edc_an).plot(ax=ax, label='Antinode', marker='o', markeredgewidth=1, markerfacecolor='none', markeredgecolor=colors[3], color=colors[3])\n",
    "\n",
    "ax.set_xlim(-0.24,0.1)\n",
    "ax.set_ylim(-0.05,1.1)\n",
    "ax.set_title('')\n",
    "ax.set_ylabel('Intensity (arb. units)', fontsize=18)\n",
    "ax.set_xlabel('Binding Energy E$_B$ (eV)', fontsize=18)\n",
    "ax.tick_params(axis='both', which='major', labelsize=16)\n",
    "\n",
    "ax.axvline(x=-0.03, color='k', linestyle='--', linewidth=1)\n",
    "plt.legend(fontsize=12)\n",
    "plt.savefig('Bi2212_EDC.pdf', bbox_inches='tight')"
   ]
  },
  {
   "cell_type": "code",
   "execution_count": null,
   "metadata": {},
   "outputs": [],
   "source": [
    "fig, ax = plt.subplots(1, 1, figsize=(2.5, 5))\n",
    "\n",
    "cmap = plt.get_cmap('copper')\n",
    "colors = [cmap(i) for i in np.linspace(0, 1, len(kxs)+3)]\n",
    "\n",
    "i=0\n",
    "for kx, ky in zip(kxs, kys):\n",
    "    edc = lt_an_p20.sel(eV=slice(-0.1,0.1), kx=slice(kx-0.01,kx+0.01), ky=slice(ky-0.01,ky+0.01)).sum(\"kx\").sum(\"ky\")\n",
    "    (normalize(edc)+i*0.8).sel(eV=slice(-0.08,0)).plot(ax=ax, label=f'({kx}, {ky})', color=colors[i+1])\n",
    "    ax.plot(-1*edc.sel(eV=slice(-0.08,0)).eV.values, (normalize(edc)+i*0.8).sel(eV=slice(-0.08,0)).values, color=colors[i+1])\n",
    "    i+=1\n",
    "\n",
    "ax.set_title('')\n",
    "ax.set_xlim(-0.08, 0.08)\n",
    "ax.tick_params(axis='both', which='major', labelsize=16)\n",
    "ax.set_ylabel('Intensity', fontsize=18)\n",
    "ax.set_xlabel('E$_B$ (eV)', fontsize=18)\n",
    "e=0.025\n",
    "ax.axvline(x=e, color='k', linestyle='--', linewidth=1)\n",
    "ax.axvline(x=-e, color='k', linestyle='--', linewidth=1)\n",
    "\n",
    "plt.savefig('Bi2212_gap.pdf', bbox_inches='tight')"
   ]
  },
  {
   "cell_type": "code",
   "execution_count": null,
   "metadata": {},
   "outputs": [],
   "source": []
  }
 ],
 "metadata": {
  "kernelspec": {
   "display_name": "pyarpes_kernel",
   "language": "python",
   "name": "arpes"
  },
  "language_info": {
   "codemirror_mode": {
    "name": "ipython",
    "version": 3
   },
   "file_extension": ".py",
   "mimetype": "text/x-python",
   "name": "python",
   "nbconvert_exporter": "python",
   "pygments_lexer": "ipython3",
   "version": "3.8.13"
  }
 },
 "nbformat": 4,
 "nbformat_minor": 2
}
