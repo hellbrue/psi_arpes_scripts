{
 "cells": [
  {
   "cell_type": "code",
   "execution_count": null,
   "id": "90665da9-5e14-4f36-a043-203fe58c37fa",
   "metadata": {},
   "outputs": [],
   "source": [
    "from arpes.io import load_data\n",
    "from arpes.plotting.annotations import annotate_cuts\n",
    "import os.path"
   ]
  },
  {
   "cell_type": "code",
   "execution_count": null,
   "id": "6d4d5ffe-ffdc-4158-87c6-f4d434b57c06",
   "metadata": {},
   "outputs": [],
   "source": [
    "# Define directory\n",
    "path_bi2223 = os.path.abspath(\"G:\\My Drive\\Bi2223\\e19557\\Box_1_square_renamed\")\n",
    "bi2223_file = 'FS_AN_P95_*_*_LT_*eVpass_000*.h5'\n",
    "bi2223_au_ref_file = 'EDC_X_P95_25eV_UNKN_LT_5eVpass_GoldRef11K_0007.h5'\n",
    "\n",
    "path_bi2212 = os.path.abspath(\"G:\\My Drive\\Bi2223\\e19557\\Beamtime2\\Sample4\\Bi2212\")\n",
    "bi2212_file = 'FS_AN_P16p5_*_*_LT_*eVpass_000*.h5'\n",
    "bi2212_au_ref_file = 'EDC_X_M0_25eV_CIRCP_LT_20eVpass_GoldRef 3_0000.h5'\n",
    "\n",
    "path = [path_bi2223]\n",
    "path.append(path_bi2212)\n",
    "\n",
    "full_file_bi2223 = os.path.join(path_bi2223, bi2223_file)\n",
    "full_file_au_bi2223 = os.path.join(path_bi2223, bi2223_au_ref_file)\n",
    "full_file_bi2212 = os.path.join(path_bi2212, bi2212_file)\n",
    "full_file_au_bi2212 = os.path.join(path_bi2212, bi2212_au_ref_file)\n",
    "\n",
    "full_files = [full_file_bi2223, full_file_au_bi2223, full_file_bi2212, full_file_au_bi2212]"
   ]
  },
  {
   "cell_type": "code",
   "execution_count": null,
   "id": "5788561a-bce5-41d2-8bc0-21b94c25b1fe",
   "metadata": {},
   "outputs": [],
   "source": [
    "import glob\n",
    "# Load all files with above specified parameters, * is a placeholder and imports all files in its place\n",
    "files = []\n",
    "for full_file in full_files:\n",
    "    files = [*glob.glob(full_file), *files]\n",
    "print(files[3])"
   ]
  },
  {
   "cell_type": "code",
   "execution_count": null,
   "id": "04a9905c-c5e4-4ad4-934e-5c4d6b6d20b0",
   "metadata": {},
   "outputs": [],
   "source": [
    "data_list = {}\n",
    "for file in files:\n",
    "    #data_list.append(load_data(file, location=\"ULTRA\"))\n",
    "    data = load_data(file, location=\"ULTRA\")\n",
    "    file_name = os.path.basename(file)[:-3]\n",
    "    data_list.update({file_name : data})"
   ]
  },
  {
   "cell_type": "code",
   "execution_count": null,
   "id": "f2c17c41-8fc4-42ed-af5b-7f10ba37d289",
   "metadata": {},
   "outputs": [],
   "source": [
    "%matplotlib inline\n",
    "import matplotlib.pyplot as plt\n",
    "bi2212 = data_list[os.path.basename(files[1])[:-3]]\n",
    "bi2212.spectrum.sel(eV=slice(-0.02,0.02)).sum(\"eV\").plot()\n",
    "plt.axvline(x=-10.5, ymin=0, ymax=1, color='red', linestyle='--')\n",
    "plt.axvline(x=-11, ymin=0, ymax=1, color='red', linestyle='--')\n",
    "plt.title('Bi2212 FS')\n",
    "plt.savefig('Plots/Bi2212_vs_Bi2223/FS_Bi2212.png')"
   ]
  },
  {
   "cell_type": "code",
   "execution_count": null,
   "id": "9bb60831-3f7b-4122-ab65-a739b4a028b8",
   "metadata": {},
   "outputs": [],
   "source": [
    "bi2212.spectrum.sel(beta=slice(-11,-10.5), eV=slice(-0.25,0.1)).sum(\"beta\").plot()\n",
    "plt.axvline(x=-5.75, ymin=0, ymax=1, color='red', linestyle='--')\n",
    "plt.axvline(x=-6.25, ymin=0, ymax=1, color='red', linestyle='--')\n",
    "plt.title('Bi2212 EDM AN')\n",
    "plt.savefig('Plots/Bi2212_vs_Bi2223/EDM_AN_Bi2212.png')"
   ]
  },
  {
   "cell_type": "code",
   "execution_count": null,
   "id": "8d9554b9-e6ed-4db5-b96d-2fe5a7849fea",
   "metadata": {},
   "outputs": [],
   "source": [
    "bi2223 = data_list[os.path.basename(files[3])[:-3]]\n",
    "bi2223.spectrum.sel(eV=slice(-0.02,0.02)).sum(\"eV\").plot()\n",
    "plt.axvline(x=-12.75, ymin=0, ymax=1, color='red', linestyle='--')\n",
    "plt.axvline(x=-13.25, ymin=0, ymax=1, color='red', linestyle='--')\n",
    "#plt.axvline(x=-2.25, ymin=0, ymax=1, color='white', linestyle='--')\n",
    "plt.title('Bi2223 FS')\n",
    "plt.savefig('Plots/Bi2212_vs_Bi2223/FS_Bi2223.png')"
   ]
  },
  {
   "cell_type": "code",
   "execution_count": null,
   "id": "13b913b4-bd24-46b1-a3ee-a53fca42defc",
   "metadata": {},
   "outputs": [],
   "source": [
    "bi2223.spectrum.sel(beta=slice(-13.25,-12.75)).sum(\"beta\").plot()\n",
    "plt.axvline(x=-4.75, ymin=0, ymax=1, color='red', linestyle='--')\n",
    "plt.axvline(x=-5.25, ymin=0, ymax=1, color='red', linestyle='--')\n",
    "plt.title('Bi2223 EDM AN')\n",
    "plt.savefig('Plots/Bi2212_vs_Bi2223/EDM_AN_Bi2223.png')"
   ]
  },
  {
   "cell_type": "code",
   "execution_count": null,
   "id": "2dba7328-305d-4fc4-aad3-44591d979fd8",
   "metadata": {},
   "outputs": [],
   "source": [
    "edc_bi2212 = bi2212.spectrum.sel(beta=slice(-13.5,-13), phi=slice(-5.25,-4.75)).sum(\"beta\").sum(\"phi\")\n",
    "edc_bi2223 = bi2223.spectrum.sel(beta=slice(-13.5,-13), phi=slice(-5.25,-4.75)).sum(\"beta\").sum(\"phi\")\n",
    "edc_bi2212_norm = edc_bi2212 / max(edc_bi2212)\n",
    "edc_bi2223_norm = edc_bi2223 / max(edc_bi2223)\n",
    "edc_bi2212_norm.plot(label='Bi2212 norm.')\n",
    "edc_bi2223_norm.plot(label='Bi2223 norm.')\n",
    "plt.legend()\n",
    "plt.xlim(-0.25)\n",
    "plt.axvline(x=0, ymin=0, ymax=1, color='red', linestyle='--')\n",
    "plt.title('EDC AN - Bi2212 vs Bi2223')\n",
    "plt.savefig('Plots/Bi2212_vs_Bi2223/EDC_Bi2212_Bi2223.png')"
   ]
  },
  {
   "cell_type": "code",
   "execution_count": null,
   "id": "b688e635-7ac5-41ec-9a90-dcb579500d73",
   "metadata": {},
   "outputs": [],
   "source": [
    "au_bi2212 = data_list[os.path.basename(files[0])[:-3]]\n",
    "au_bi2212.S.plot()"
   ]
  },
  {
   "cell_type": "code",
   "execution_count": null,
   "id": "bb97a10c-3ff1-4dcb-9446-4a29f76b240a",
   "metadata": {},
   "outputs": [],
   "source": [
    "au_bi2223 = data_list[os.path.basename(files[2])[:-3]]\n",
    "au_bi2223.S.plot()"
   ]
  },
  {
   "cell_type": "code",
   "execution_count": null,
   "id": "9beeef66-04f4-4a4b-91c9-9aa702656d23",
   "metadata": {},
   "outputs": [],
   "source": [
    "edc_au_bi2212 = au_bi2212.spectrum.sel(phi=slice(-10,10)).sum(\"phi\")\n",
    "edc_au_bi2223 = au_bi2223.spectrum.sel(phi=slice(-10,10)).sum(\"phi\")\n",
    "edc_au_bi2212_norm = edc_au_bi2212 / max(edc_au_bi2212)\n",
    "edc_au_bi2223_norm = edc_au_bi2223 / max(edc_au_bi2223)\n",
    "edc_au_bi2212_norm.plot(label='AU Bi2212')\n",
    "edc_au_bi2223_norm.plot(label='AU Bi2223')\n",
    "edc_bi2212_norm.plot(label='Bi2212')\n",
    "edc_bi2223_norm.plot(label='Bi2223')\n",
    "plt.legend()\n",
    "plt.xlim(-0.2,0.1)\n",
    "plt.axvline(x=0, ymin=0, ymax=1, color='red', linestyle='--')\n",
    "plt.title('EDCs all comparison')\n",
    "plt.savefig('Plots/Bi2212_vs_Bi2223/EDC_all_comparison.png')"
   ]
  }
 ],
 "metadata": {
  "kernelspec": {
   "display_name": "pyarpes_kernel",
   "language": "python",
   "name": "arpes"
  },
  "language_info": {
   "codemirror_mode": {
    "name": "ipython",
    "version": 3
   },
   "file_extension": ".py",
   "mimetype": "text/x-python",
   "name": "python",
   "nbconvert_exporter": "python",
   "pygments_lexer": "ipython3",
   "version": "3.8.13"
  }
 },
 "nbformat": 4,
 "nbformat_minor": 5
}
