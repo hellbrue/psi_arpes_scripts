{
 "cells": [
  {
   "cell_type": "code",
   "execution_count": null,
   "id": "54303a4a-d058-4b7b-a725-c2b515ca6c53",
   "metadata": {},
   "outputs": [],
   "source": [
    "from arpes.io import load_data\n",
    "import os.path\n"
   ]
  },
  {
   "cell_type": "markdown",
   "id": "4e021e02-9074-489d-8721-cc6ac98536ce",
   "metadata": {},
   "source": [
    "# Overview of FS maps of Bi2223 1. Beamtime at PSI\n",
    "This notebook covers a broad overview of all FS maps measured at the 1. beamtime at PSI. On this beamtime only one sample was of Bi2223 was measured.\n",
    "Additionally to the FS maps, \"zoomed\" in maps were measured with higher angular resolution."
   ]
  },
  {
   "cell_type": "markdown",
   "id": "281bf4c3-a6fa-4e0d-b407-10d8ec60bee3",
   "metadata": {},
   "source": [
    "## FS maps of Bi2223"
   ]
  },
  {
   "cell_type": "code",
   "execution_count": null,
   "id": "6e1457be-e197-4498-b1cf-fae1923b471c",
   "metadata": {},
   "outputs": [],
   "source": [
    "# Define directory\n",
    "path = os.path.abspath(\"G:\\My Drive\\Bi2223\\e19557\\Box_1_square_renamed\")\n",
    "\n",
    "# Different parameters used to set up scans at SLS\n",
    "scan_type = 'FS'\n",
    "direction = '*'\n",
    "phi = '*'\n",
    "energy = '*'\n",
    "polarization = '*'\n",
    "temp = '*'\n",
    "e_pass = '*'+'eVpass'\n",
    "comment = ''\n",
    "run = '*'.zfill(4)\n",
    "\n",
    "# Put together string for finding file\n",
    "parameters = [scan_type, direction, phi, energy, polarization, temp, e_pass, comment, run]\n",
    "if comment == '':\n",
    "    parameters.remove(comment)\n",
    "file_type = 'h5'\n",
    "file_name = '_'.join(parameters)\n",
    "file = '.'.join([file_name , file_type])\n",
    "\n",
    "full_file = os.path.join(path, file)\n",
    "file"
   ]
  },
  {
   "cell_type": "code",
   "execution_count": null,
   "id": "0efd712f-a518-4aa4-9e78-ed90ad77412a",
   "metadata": {},
   "outputs": [],
   "source": [
    "import glob\n",
    "# Load all files with above specified parameters, * is a placeholder and imports all files in its place\n",
    "files = glob.glob(full_file)\n",
    "print(len(files))\n",
    "files"
   ]
  },
  {
   "cell_type": "code",
   "execution_count": null,
   "id": "469052fe-3157-48de-aac2-b64947ab5ae9",
   "metadata": {},
   "outputs": [],
   "source": [
    "data_list = {}\n",
    "for file in files:\n",
    "    #data_list.append(load_data(file, location=\"ULTRA\"))\n",
    "    data = load_data(file, location=\"ULTRA\")\n",
    "    file_name = file.replace(path, '')[1:-3]\n",
    "    data_list.update({file_name : data})"
   ]
  },
  {
   "cell_type": "code",
   "execution_count": null,
   "id": "2234e5c7-065e-4cd9-9112-33a93fdd7757",
   "metadata": {},
   "outputs": [],
   "source": [
    "import matplotlib.pyplot as plt\n",
    "import math\n",
    "rows = math.ceil(len(data_list) / 2)\n",
    "fig, ax = plt.subplots(rows, 2, figsize=(14, 6*rows))\n",
    "fig.suptitle('Overview of Bi2223 FS 1. Beamtime', fontsize=20)\n",
    "    \n",
    "for key in data_list.keys():\n",
    "    data = data_list[key].spectrum\n",
    "    fs = data.sel(eV=slice(-0.02,0.02)).sum(\"eV\")\n",
    "    fs.plot(ax=ax.ravel()[list(data_list).index(key)])\n",
    "    ax.ravel()[list(data_list).index(key)].set_title(f\"{key}\")\n",
    "    \n",
    "    # For plotting individual subplots\n",
    "    #extent = ax.ravel()[list(data_list).index(key)].get_window_extent().transformed(fig.dpi_scale_trans.inverted())\n",
    "    #plt.savefig(key, bbox_inches=extent.expanded(1.1, 1.2))\n",
    "\n",
    "plt.tight_layout(rect=[0, 0.03, 1, 0.98])"
   ]
  },
  {
   "cell_type": "markdown",
   "id": "9a56e2a8-0c6a-4698-88ea-2806328098a6",
   "metadata": {},
   "source": [
    "## Zoomed in FS maps with higher angular resolution"
   ]
  },
  {
   "cell_type": "code",
   "execution_count": null,
   "id": "fc9ff4b2-8e87-46bf-b2ec-8476b480aea9",
   "metadata": {},
   "outputs": [],
   "source": [
    "# Define directory\n",
    "path = os.path.abspath(\"G:\\My Drive\\Bi2223\\e19557\\Box_1_square_renamed\")\n",
    "\n",
    "# Different parameters used to set up scans at SLS\n",
    "scan_type = 'FS'\n",
    "direction = '*'\n",
    "phi = '*'\n",
    "energy = '*'\n",
    "polarization = '*'\n",
    "temp = '*'\n",
    "e_pass = '*'+'eVpass'\n",
    "comment = 'zoom'\n",
    "run = '*'.zfill(4)\n",
    "\n",
    "# Put together string for finding file\n",
    "parameters = [scan_type, direction, phi, energy, polarization, temp, e_pass, comment, run]\n",
    "if comment == '':\n",
    "    parameters.remove(comment)\n",
    "file_type = 'h5'\n",
    "file_name = '_'.join(parameters)\n",
    "file = '.'.join([file_name , file_type])\n",
    "\n",
    "full_file = os.path.join(path, file)\n",
    "file"
   ]
  },
  {
   "cell_type": "code",
   "execution_count": null,
   "id": "b6758989-456b-415b-9edd-193ed00ae783",
   "metadata": {},
   "outputs": [],
   "source": [
    "import glob\n",
    "# Load all files with above specified parameters, * is a placeholder and imports all files in its place\n",
    "files = glob.glob(full_file)\n",
    "print(len(files))\n",
    "files"
   ]
  },
  {
   "cell_type": "code",
   "execution_count": null,
   "id": "ed877207-850e-4375-9d85-0c2cfad74201",
   "metadata": {},
   "outputs": [],
   "source": [
    "data_list = {}\n",
    "for file in files:\n",
    "    #data_list.append(load_data(file, location=\"ULTRA\"))\n",
    "    data = load_data(file, location=\"ULTRA\")\n",
    "    file_name = file.replace(path, '')[1:-3]\n",
    "    data_list.update({file_name : data})"
   ]
  },
  {
   "cell_type": "code",
   "execution_count": null,
   "id": "bf8e87bc-52f7-4540-b6ce-ac6aa33758f7",
   "metadata": {},
   "outputs": [],
   "source": [
    "import matplotlib.pyplot as plt\n",
    "import math\n",
    "rows = math.ceil(len(data_list) / 2)\n",
    "fig, ax = plt.subplots(rows, 2, figsize=(14, 6*rows))\n",
    "fig.suptitle('Overview of Bi2223 FS 10eV Pass 1. Beamtime', fontsize=20)\n",
    "    \n",
    "for key in data_list.keys():\n",
    "    data = data_list[key].spectrum\n",
    "    fs = data.sel(eV=slice(-0.02,0.02)).sum(\"eV\")\n",
    "    fs.plot(ax=ax.ravel()[list(data_list).index(key)])\n",
    "    ax.ravel()[list(data_list).index(key)].set_title(f\"{key}\")\n",
    "    \n",
    "    # For plotting individual subplots\n",
    "    # extent = ax.ravel()[list(data_list).index(key)].get_window_extent().transformed(fig.dpi_scale_trans.inverted())\n",
    "    # plt.savefig(key, bbox_inches=extent.expanded(1.1, 1.2))\n",
    "\n",
    "plt.tight_layout(rect=[0, 0.03, 1, 0.98])"
   ]
  }
 ],
 "metadata": {
  "kernelspec": {
   "display_name": "pyarpes_kernel",
   "language": "python",
   "name": "arpes"
  },
  "language_info": {
   "codemirror_mode": {
    "name": "ipython",
    "version": 3
   },
   "file_extension": ".py",
   "mimetype": "text/x-python",
   "name": "python",
   "nbconvert_exporter": "python",
   "pygments_lexer": "ipython3",
   "version": "3.8.13 (default, Mar 28 2022, 06:59:08) [MSC v.1916 64 bit (AMD64)]"
  }
 },
 "nbformat": 4,
 "nbformat_minor": 5
}
