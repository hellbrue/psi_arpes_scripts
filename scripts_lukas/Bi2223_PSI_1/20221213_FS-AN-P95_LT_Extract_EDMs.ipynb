{
 "cells": [
  {
   "cell_type": "code",
   "execution_count": null,
   "id": "c8ef5e46-4cfb-499c-a8a7-534d2e672f11",
   "metadata": {},
   "outputs": [],
   "source": [
    "from arpes.io import load_data\n",
    "import os.path"
   ]
  },
  {
   "cell_type": "code",
   "execution_count": null,
   "id": "7499fa94-d36c-4fea-aa8c-ca452931194a",
   "metadata": {},
   "outputs": [],
   "source": [
    "# Define directory\n",
    "path = os.path.abspath(\"G:\\My Drive\\Bi2223\\e19557\\Box_1_square_renamed\")\n",
    "\n",
    "# Different parameters used to set up scans at SLS\n",
    "scan_type = 'FS'\n",
    "direction = 'AN'\n",
    "phi = 'P95'\n",
    "energy = '*'\n",
    "polarization = '*'\n",
    "temp = 'LT'\n",
    "e_pass = '*'+'eVpass'\n",
    "comment = ''\n",
    "run = '*'.zfill(4)\n",
    "\n",
    "# Put together string for finding file\n",
    "parameters = [scan_type, direction, phi, energy, polarization, temp, e_pass, comment, run]\n",
    "if comment == '':\n",
    "    parameters.remove(comment)\n",
    "file_type = 'h5'\n",
    "file_name = '_'.join(parameters)\n",
    "file = '.'.join([file_name , file_type])\n",
    "\n",
    "full_file = os.path.join(path, file)\n",
    "file"
   ]
  },
  {
   "cell_type": "code",
   "execution_count": null,
   "id": "b33bbe4d-0437-4bdf-8cd9-6968972a9793",
   "metadata": {},
   "outputs": [],
   "source": [
    "import glob\n",
    "# Load all files with above specified parameters, * is a placeholder and imports all files in its place\n",
    "files = glob.glob(full_file)\n",
    "print(len(files))\n",
    "files"
   ]
  },
  {
   "cell_type": "code",
   "execution_count": 4,
   "id": "fa9002ee-d465-40fa-abb7-9d855ebbac13",
   "metadata": {},
   "outputs": [],
   "source": [
    "data_list = {}\n",
    "for file in files:\n",
    "    #data_list.append(load_data(file, location=\"ULTRA\"))\n",
    "    data = load_data(file, location=\"ULTRA\")\n",
    "    file_name = file.replace(path, '')[1:-3]\n",
    "    data_list.update({file_name : data})"
   ]
  },
  {
   "cell_type": "code",
   "execution_count": 5,
   "id": "345601ce-ef98-4053-9251-9d6041d720c6",
   "metadata": {},
   "outputs": [],
   "source": [
    "fs_data = load_data(file, location=\"ULTRA\")"
   ]
  },
  {
   "cell_type": "code",
   "execution_count": null,
   "id": "2285619e-fa6d-48f6-b9f3-6c9d6cd05014",
   "metadata": {},
   "outputs": [],
   "source": [
    "%matplotlib inline\n",
    "import matplotlib.pyplot as plt\n",
    "fs_data.spectrum.sel(eV=slice(-0.02,0.02)).sum(\"eV\").plot()\n",
    "\n",
    "# plt.savefig('Plots/FS_AN_P95_25eV_CIRCP_LT_5eVpass_0000/FS_snap.png')"
   ]
  },
  {
   "cell_type": "code",
   "execution_count": null,
   "id": "7bfa16ef-fdcc-427d-a1bb-b18c37bad839",
   "metadata": {},
   "outputs": [],
   "source": [
    "import numpy as np\n",
    "import math\n",
    "angles = np.arange(-14.5, -7, 0.5)\n",
    "# print(angles)\n",
    "rows = math.ceil(len(angles) / 3)\n",
    "fig, ax = plt.subplots(rows, 3, figsize=(14, 6*rows))\n",
    "fig.suptitle('EDCs along Tilt dir, neg. Phi', fontsize=20)\n",
    "\n",
    "for k in angles:\n",
    "    edc = fs_data.spectrum.sel(phi=slice(k,k+0.5)).sum(\"phi\")\n",
    "    edc.plot(ax=ax.ravel()[list(angles).index(k)])\n",
    "    ax.ravel()[list(angles).index(k)].set_title(f\"Phi = {k}°\")\n",
    "    \n",
    "plt.tight_layout(rect=[0, 0.03, 1, 0.98])\n",
    "# plt.savefig('Plots/FS_AN_P95_25eV_CIRCP_LT_5eVpass_0000/neg_Phi_overview.png')"
   ]
  },
  {
   "cell_type": "code",
   "execution_count": null,
   "id": "1ebb688b-56b4-4d6b-bba3-3f738b757d53",
   "metadata": {},
   "outputs": [],
   "source": [
    "angles = np.arange(7, 14.5, 0.5)\n",
    "# print(angles)\n",
    "rows = math.ceil(len(angles) / 3)\n",
    "fig, ax = plt.subplots(rows, 3, figsize=(14, 6*rows))\n",
    "fig.suptitle('EDCs along Tilt dir, pos. Phi', fontsize=20)\n",
    "\n",
    "for k in angles:\n",
    "    edc = fs_data.spectrum.sel(phi=slice(k,k+0.5)).sum(\"phi\")\n",
    "    edc.plot(ax=ax.ravel()[list(angles).index(k)])\n",
    "    ax.ravel()[list(angles).index(k)].set_title(f\"Phi = {k}°\")\n",
    "    \n",
    "plt.tight_layout(rect=[0, 0.03, 1, 0.98])\n",
    "# plt.savefig('Plots/FS_AN_P95_25eV_CIRCP_LT_5eVpass_0000/pos_Phi_overview.png')"
   ]
  },
  {
   "cell_type": "code",
   "execution_count": null,
   "id": "05f0054b-9ae4-4cda-8e37-231bbe30b13b",
   "metadata": {},
   "outputs": [],
   "source": [
    "angles = np.arange(-14, -8, 0.5)\n",
    "# print(angles)\n",
    "rows = math.ceil(len(angles) / 3)\n",
    "fig, ax = plt.subplots(rows, 3, figsize=(14, 6*rows))\n",
    "fig.suptitle('EDCs along Phi dir, neg. Tilt', fontsize=20)\n",
    "\n",
    "for k in angles:\n",
    "    edc = fs_data.spectrum.sel(tilt=slice(k,k+0.5)).sum(\"tilt\")\n",
    "    edc.plot(ax=ax.ravel()[list(angles).index(k)])\n",
    "    ax.ravel()[list(angles).index(k)].set_title(f\"Tilt = {k}°\")\n",
    "    \n",
    "plt.tight_layout(rect=[0, 0.03, 1, 0.98])\n",
    "plt.savefig('Plots/FS_AN_P95_25eV_CIRCP_LT_5eVpass_0000/neg_Tilt_overview.png')"
   ]
  },
  {
   "cell_type": "code",
   "execution_count": null,
   "id": "13f04d27-aa52-4a63-ab23-35f5fcd21832",
   "metadata": {},
   "outputs": [],
   "source": [
    "angles = np.arange(3, 13.5, 0.5)\n",
    "# print(angles)\n",
    "rows = math.ceil(len(angles) / 3)\n",
    "fig, ax = plt.subplots(rows, 3, figsize=(14, 6*rows))\n",
    "fig.suptitle('EDCs along Phi dir, pos. Tilt', fontsize=20)\n",
    "\n",
    "for k in angles:\n",
    "    edc = fs_data.spectrum.sel(tilt=slice(k,k+0.5)).sum(\"tilt\")\n",
    "    edc.plot(ax=ax.ravel()[list(angles).index(k)])\n",
    "    ax.ravel()[list(angles).index(k)].set_title(f\"Tilt = {k}°\")\n",
    "    \n",
    "plt.tight_layout(rect=[0, 0.03, 1, 0.98])\n",
    "plt.savefig('Plots/FS_AN_P95_25eV_CIRCP_LT_5eVpass_0000/pos_Tilt_overview.png')"
   ]
  }
 ],
 "metadata": {
  "kernelspec": {
   "display_name": "pyarpes_kernel",
   "language": "python",
   "name": "arpes"
  },
  "language_info": {
   "codemirror_mode": {
    "name": "ipython",
    "version": 3
   },
   "file_extension": ".py",
   "mimetype": "text/x-python",
   "name": "python",
   "nbconvert_exporter": "python",
   "pygments_lexer": "ipython3",
   "version": "3.8.13"
  }
 },
 "nbformat": 4,
 "nbformat_minor": 5
}
