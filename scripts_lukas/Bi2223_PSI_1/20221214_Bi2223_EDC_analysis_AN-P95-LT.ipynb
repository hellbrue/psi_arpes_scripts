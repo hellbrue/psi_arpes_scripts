{
 "cells": [
  {
   "cell_type": "code",
   "execution_count": null,
   "id": "0a894881-ffa2-429f-85e0-2b0d9e67bb7e",
   "metadata": {},
   "outputs": [],
   "source": [
    "from arpes.io import load_data\n",
    "from arpes.plotting.annotations import annotate_cuts\n",
    "import os.path"
   ]
  },
  {
   "cell_type": "code",
   "execution_count": null,
   "id": "15b1b26f-9a7e-4eb1-a9b4-78369cea5b45",
   "metadata": {},
   "outputs": [],
   "source": [
    "# Define directory\n",
    "path = os.path.abspath(\"G:\\My Drive\\Bi2223\\e19557\\Box_1_square_renamed\")\n",
    "\n",
    "# Different parameters used to set up scans at SLS\n",
    "scan_type = 'FS'\n",
    "direction = 'AN'\n",
    "phi = 'P95'\n",
    "energy = '*'\n",
    "polarization = '*'\n",
    "temp = 'LT'\n",
    "e_pass = '*'+'eVpass'\n",
    "comment = ''\n",
    "run = '*'.zfill(4)\n",
    "\n",
    "# Put together string for finding file\n",
    "parameters = [scan_type, direction, phi, energy, polarization, temp, e_pass, comment, run]\n",
    "if comment == '':\n",
    "    parameters.remove(comment)\n",
    "file_type = 'h5'\n",
    "file_name = '_'.join(parameters)\n",
    "file = '.'.join([file_name , file_type])\n",
    "\n",
    "full_file = os.path.join(path, file)\n",
    "file"
   ]
  },
  {
   "cell_type": "code",
   "execution_count": null,
   "id": "05111340-b3a3-4285-bc2c-33904ecc2341",
   "metadata": {},
   "outputs": [],
   "source": [
    "import glob\n",
    "# Load all files with above specified parameters, * is a placeholder and imports all files in its place\n",
    "files = glob.glob(full_file)\n",
    "print(len(files))\n",
    "files"
   ]
  },
  {
   "cell_type": "code",
   "execution_count": null,
   "id": "af265170-350f-4c9f-b1bc-9bf1d10c990c",
   "metadata": {},
   "outputs": [],
   "source": [
    "data_list = {}\n",
    "for file in files:\n",
    "    #data_list.append(load_data(file, location=\"ULTRA\"))\n",
    "    data = load_data(file, location=\"ULTRA\")\n",
    "    file_name = file.replace(path, '')[1:-3]\n",
    "    data_list.update({file_name : data})"
   ]
  },
  {
   "cell_type": "code",
   "execution_count": null,
   "id": "2086a927-1c17-4211-8fcd-6a48d468bf28",
   "metadata": {},
   "outputs": [],
   "source": [
    "fs_data = load_data(file, location=\"ULTRA\")"
   ]
  },
  {
   "cell_type": "code",
   "execution_count": null,
   "id": "a3a28480-1685-4827-9adb-40df241f208d",
   "metadata": {},
   "outputs": [],
   "source": [
    "%matplotlib inline\n",
    "import matplotlib.pyplot as plt\n",
    "fig, ax = plt.subplots()\n",
    "fermi = fs_data.spectrum.sel(eV=slice(-0.02,0.02)).sum(\"eV\").plot()\n",
    "plt.axhline(y=14, xmin=0, xmax=1, color='red', linestyle='--')\n",
    "plt.axhline(y=14.5, xmin=0, xmax=1, color='red', linestyle='--')\n",
    "plt.axvline(x=-8.5, ymin=0, ymax=1, color='red', linestyle='--')\n",
    "plt.axvline(x=-9, ymin=0, ymax=1, color='red', linestyle='--')\n",
    "plt.title('FS_Bi2223')\n",
    "plt.savefig('Plots/Bi2223_EDC_analysis/FS_Bi2223.png')"
   ]
  },
  {
   "cell_type": "code",
   "execution_count": null,
   "id": "998e2fd6-d35e-4651-8d74-b45b9ef7d5ea",
   "metadata": {},
   "outputs": [],
   "source": [
    "fig, ax = plt.subplots()\n",
    "\n",
    "an_edm = fs_data.spectrum.sel(phi=slice(14,14.5)).sum(\"phi\")\n",
    "an_edm.plot()\n",
    "plt.axvline(x=-6.6, ymin=0, ymax=1, color='red', linestyle='--')\n",
    "plt.axvline(x=-6, ymin=0, ymax=1, color='red', linestyle='--')\n",
    "plt.axvline(x=0, ymin=0, ymax=1, color='white', linestyle='--')\n",
    "plt.axvline(x=2, ymin=0, ymax=1, color='white', linestyle='--')\n",
    "plt.title('EDM AN Bi2223')\n",
    "plt.savefig('Plots/Bi2223_EDC_analysis/EDM_AN_Bi2223.png')"
   ]
  },
  {
   "cell_type": "code",
   "execution_count": null,
   "id": "a57e8742-bf7a-419e-a735-d9e2b0d4b150",
   "metadata": {},
   "outputs": [],
   "source": [
    "an_edc = fs_data.spectrum.sel(phi=slice(14,14.5), tilt=slice(-6.5,-6)).sum(\"phi\").sum(\"tilt\")\n",
    "an_edc_integrated = fs_data.spectrum.sel(phi=slice(14,14.5), tilt=slice(0,2)).sum(\"phi\").sum(\"tilt\")\n",
    "# an_edc.plot(label=\"AN\")\n",
    "# an_edc_integrated.plot(label=\"Integrated\")\n",
    "an_edc_integrated_norm = an_edc_integrated / max(an_edc_integrated)\n",
    "an_edc_norm = an_edc / max(an_edc)\n",
    "an_edc_integrated_norm.plot(label=\"Integrated_norm\")\n",
    "an_edc_norm.plot(label=\"AN_norm\")\n",
    "plt.legend()\n",
    "plt.title('EDC AN Bi2223')\n",
    "plt.savefig('Plots/Bi2223_EDC_analysis/EDC_AN_Bi2223.png')"
   ]
  },
  {
   "cell_type": "code",
   "execution_count": null,
   "id": "ec9d08ba-0740-4843-afc2-85f88d0e9cbb",
   "metadata": {},
   "outputs": [],
   "source": [
    "waterfall = fs_data.spectrum.sel(phi=slice(14,14.5), tilt=slice(-3,-2)).sum(\"phi\").sum(\"tilt\")\n",
    "waterfall.plot(label=\"Spectrum\")\n",
    "plt.legend()\n",
    "plt.show()"
   ]
  },
  {
   "cell_type": "code",
   "execution_count": null,
   "id": "8dac1237-4c05-4cb6-9476-8d389054bdc7",
   "metadata": {},
   "outputs": [],
   "source": [
    "from arpes.plotting.stack_plot import stack_dispersion_plot\n",
    "\n",
    "an_edm_parab = fs_data.spectrum.sel(phi=slice(14,14.5), tilt=slice(-7.5,5)).sum(\"phi\")\n",
    "fig, ax = stack_dispersion_plot(an_edm_parab.sel(eV=slice(-0.25,0.05)),stack_axis='tilt', scale_factor=5, use_constant_correction=True,correction_side='right', max_stacks=13)\n",
    "plt.title('EDC stackplot Bi2223')\n",
    "plt.savefig('Plots/Bi2223_EDC_analysis/EDC_stackplot_Bi2223.png')"
   ]
  },
  {
   "cell_type": "code",
   "execution_count": null,
   "id": "cdf60c62-6103-4c42-a67d-a6a9e4bb624b",
   "metadata": {},
   "outputs": [],
   "source": [
    "from arpes.plotting.stack_plot import flat_stack_plot, overlapped_stack_dispersion_plot\n",
    "\n",
    "an_edm_parab = fs_data.spectrum.sel(phi=slice(14,14.5), tilt=slice(-6,0)).sum(\"phi\")\n",
    "\n",
    "# fig, ax = plt.subplots()\n",
    "# inset = inset_axes(ax, loc='upper', height='5%', width='40%')\n",
    "\n",
    "# cbarmap = tilt_colorbar(high=150, ax=inset), tilt_colorbar(high=150)\n",
    "fig, ax = flat_stack_plot(an_edm_parab.sel(eV=slice(-0.25,0.05)), stack_axis='tilt')"
   ]
  },
  {
   "cell_type": "code",
   "execution_count": null,
   "id": "a1da505e-8f60-4570-8e6b-dc6e8db31521",
   "metadata": {},
   "outputs": [],
   "source": [
    "n_edm = fs_data.spectrum.sel(tilt=slice(-9,-8.5)).sum(\"tilt\")\n",
    "n_edm.plot()\n",
    "plt.axvline(x=-8.5, ymin=0, ymax=1, color='red', linestyle='--')\n",
    "plt.axvline(x=-8, ymin=0, ymax=1, color='red', linestyle='--')\n",
    "plt.title('EDM N Bi2223')\n",
    "plt.savefig('Plots/Bi2223_EDC_analysis/EDM_N_Bi2223.png')"
   ]
  },
  {
   "cell_type": "code",
   "execution_count": null,
   "id": "f89381b0-37d5-4374-a521-8f6b8b2aa40c",
   "metadata": {},
   "outputs": [],
   "source": [
    "n_edc = fs_data.spectrum.sel(phi=slice(-8.5,-8), tilt=slice(-9,-8.5)).sum(\"phi\").sum(\"tilt\")\n",
    "n_edc.plot()"
   ]
  },
  {
   "cell_type": "code",
   "execution_count": null,
   "id": "ff00e5c1-e747-4748-9bd8-0e4fb0d611a6",
   "metadata": {},
   "outputs": [],
   "source": [
    "an_norm = an_edc/max(an_edc)\n",
    "n_norm = n_edc/max(n_edc)\n",
    "# an_edc_integrated_norm = an_edc_integrated/max(an_edc_integrated)\n",
    "an_norm.plot(label=\"Anti-Node norm.\")\n",
    "# an_edc_integrated_norm.plot(label=\"AN Integrated\")\n",
    "n_norm.plot(label=\"Node norm.\")\n",
    "plt.legend()\n",
    "# n_edc.plot()\n",
    "plt.title('EDC Node vs Anit-Node Bi2223')\n",
    "plt.savefig('Plots/Bi2223_EDC_analysis/EDC_N_AN_comp_Bi2223.png')"
   ]
  }
 ],
 "metadata": {
  "kernelspec": {
   "display_name": "pyarpes_kernel",
   "language": "python",
   "name": "arpes"
  },
  "language_info": {
   "codemirror_mode": {
    "name": "ipython",
    "version": 3
   },
   "file_extension": ".py",
   "mimetype": "text/x-python",
   "name": "python",
   "nbconvert_exporter": "python",
   "pygments_lexer": "ipython3",
   "version": "3.8.13 (default, Mar 28 2022, 06:59:08) [MSC v.1916 64 bit (AMD64)]"
  }
 },
 "nbformat": 4,
 "nbformat_minor": 5
}
