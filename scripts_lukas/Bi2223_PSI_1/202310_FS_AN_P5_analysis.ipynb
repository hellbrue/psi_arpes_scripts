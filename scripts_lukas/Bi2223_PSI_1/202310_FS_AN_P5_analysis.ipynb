{
 "cells": [
  {
   "cell_type": "code",
   "execution_count": null,
   "metadata": {},
   "outputs": [],
   "source": [
    "%load_ext autoreload\n",
    "%autoreload 2\n",
    "from arpes.all import *\n",
    "import os.path\n",
    "import matplotlib.pyplot as plt\n",
    "import matplotlib.patches as patches\n",
    "import math\n",
    "import numpy as np\n",
    "%matplotlib inline"
   ]
  },
  {
   "cell_type": "code",
   "execution_count": null,
   "metadata": {},
   "outputs": [],
   "source": [
    "# Define directory\n",
    "path = os.path.abspath(r'C:\\Users\\hellbrue\\Documents\\Bi2223_1st_beamtime')\n",
    "\n",
    "# Different parameters used to set up scans at SLS\n",
    "scan_type = '*'\n",
    "direction = 'X'\n",
    "phi = '*'\n",
    "energy = '25eV'\n",
    "polarization = '*'\n",
    "temp = '*'\n",
    "e_pass = '*'+'eVpass'\n",
    "comment = '*'\n",
    "run = '*'.zfill(4)\n",
    "\n",
    "# Put together string for finding file\n",
    "parameters = [scan_type, direction, phi, energy, polarization, temp, e_pass, comment, run]\n",
    "if comment == '':\n",
    "    parameters.remove(comment)\n",
    "file_type = 'h5'\n",
    "file_name = '_'.join(parameters)\n",
    "file = '.'.join([file_name , file_type])\n",
    "\n",
    "au_full_file = os.path.join(path, file)\n",
    "file"
   ]
  },
  {
   "cell_type": "code",
   "execution_count": null,
   "metadata": {},
   "outputs": [],
   "source": [
    "import glob\n",
    "# Load all files with above specified parameters, * is a placeholder and imports all files in its place\n",
    "au_files = glob.glob(au_full_file)\n",
    "print(len(au_files))\n",
    "au_files"
   ]
  },
  {
   "cell_type": "code",
   "execution_count": 4,
   "metadata": {},
   "outputs": [],
   "source": [
    "au_raw_data_list = {}\n",
    "for file in au_files:\n",
    "    #data_list.append(load_data(file, location=\"ULTRA\"))\n",
    "    data = load_data(file, location=\"ULTRA\")\n",
    "    # k_data = convert_to_kspace(data.spectrum)\n",
    "    file_name = file.replace(path, '')[1:-3]\n",
    "    au_raw_data_list.update({file_name : data})"
   ]
  },
  {
   "cell_type": "markdown",
   "metadata": {},
   "source": [
    "poly Au used to determine Fermi level. Determine Fermiedge and apply to data below"
   ]
  },
  {
   "cell_type": "code",
   "execution_count": null,
   "metadata": {},
   "outputs": [],
   "source": [
    "au_lt = au_raw_data_list['EDC_X_P95_25eV_UNKN_LT_5eVpass_GoldRef11K_0007']\n",
    "au_lt.S.plot()"
   ]
  },
  {
   "cell_type": "code",
   "execution_count": null,
   "metadata": {},
   "outputs": [],
   "source": [
    "from arpes.analysis.general import rebin\n",
    "\n",
    "binned = rebin(au_lt, phi=10).spectrum\n",
    "binned.plot()"
   ]
  },
  {
   "cell_type": "code",
   "execution_count": null,
   "metadata": {},
   "outputs": [],
   "source": [
    "from arpes.all import AffineBroadenedFD, broadcast_model\n",
    "fermi_level = binned.sel(phi=slice(-0.2,0.2), eV=slice(-0.2,0.1))\n",
    "results = broadcast_model(AffineBroadenedFD, fermi_level, \"phi\")\n",
    "\n",
    "fig, ax = plt.subplots()\n",
    "fermi_level.plot(ax=ax)\n",
    "ax.scatter(*results.F.p(\"fd_center\").G.to_arrays(), color=\"red\")\n",
    "ax.axhline(y=0, color='k', linestyle='--', linewidth=1)"
   ]
  },
  {
   "cell_type": "code",
   "execution_count": null,
   "metadata": {},
   "outputs": [],
   "source": [
    "from arpes.fits.fit_models import LinearModel\n",
    "lin_mod = LinearModel().guess_fit(results.F.p(\"fd_center\"))\n",
    "lin_mod.plot()\n",
    "plt.show()"
   ]
  },
  {
   "cell_type": "code",
   "execution_count": null,
   "metadata": {},
   "outputs": [],
   "source": [
    "edc = au_lt.spectrum\n",
    "edge = lin_mod.eval(x=edc.phi)\n",
    "\n",
    "corrected_edc = edc.G.shift_by(edge, \"eV\")\n",
    "\n",
    "fig, axes = plt.subplots(1, 2, figsize=(10, 5))\n",
    "corrected_edc.plot(ax=axes[0], vmax=10)\n",
    "edc.plot(ax=axes[1], vmax=20)\n",
    "# plot vertical lines for y = 0\n",
    "for ax in axes:\n",
    "    ax.set_title(\"\")\n",
    "    ax.axhline(y=0, color='k', linestyle='--', linewidth=1)"
   ]
  },
  {
   "cell_type": "code",
   "execution_count": null,
   "metadata": {},
   "outputs": [],
   "source": [
    "# Define directory\n",
    "path = os.path.abspath(r'C:\\Users\\hellbrue\\Documents\\Bi2223_1st_beamtime')\n",
    "\n",
    "# Different parameters used to set up scans at SLS\n",
    "scan_type = 'FS'\n",
    "direction = 'AN'\n",
    "phi = 'P5'\n",
    "energy = '*'\n",
    "polarization = '*'\n",
    "temp = '*'\n",
    "e_pass = '*'+'eVpass'\n",
    "comment = ''\n",
    "run = '*'.zfill(4)\n",
    "\n",
    "# Put together string for finding file\n",
    "parameters = [scan_type, direction, phi, energy, polarization, temp, e_pass, comment, run]\n",
    "if comment == '':\n",
    "    parameters.remove(comment)\n",
    "file_type = 'h5'\n",
    "file_name = '_'.join(parameters)\n",
    "file = '.'.join([file_name , file_type])\n",
    "\n",
    "bi2223_full_file = os.path.join(path, file)\n",
    "file"
   ]
  },
  {
   "cell_type": "code",
   "execution_count": null,
   "metadata": {},
   "outputs": [],
   "source": [
    "import glob\n",
    "# Load all files with above specified parameters, * is a placeholder and imports all files in its place\n",
    "bi2223_files = glob.glob(bi2223_full_file)\n",
    "print(len(bi2223_files))\n",
    "bi2223_files"
   ]
  },
  {
   "cell_type": "code",
   "execution_count": 12,
   "metadata": {},
   "outputs": [],
   "source": [
    "bi2223_data_list = {}\n",
    "for file in bi2223_files:\n",
    "    #data_list.append(load_data(file, location=\"ULTRA\"))\n",
    "    raw_data = load_data(file, location=\"ULTRA\")\n",
    "    edge = lin_mod.eval(x=raw_data.spectrum.phi)\n",
    "    corrected_data = raw_data.spectrum.G.shift_by(edge, \"eV\")\n",
    "    corrected_data.S.apply_offsets({\"beta\": -0.0077, \"phi\": -0.004})\n",
    "    k_data = convert_to_kspace(corrected_data)\n",
    "    file_name = file.replace(path, '')[1:-3]\n",
    "    bi2223_data_list.update({file_name : k_data})"
   ]
  },
  {
   "cell_type": "markdown",
   "metadata": {},
   "source": [
    "Initalize datasets"
   ]
  },
  {
   "cell_type": "code",
   "execution_count": 13,
   "metadata": {},
   "outputs": [],
   "source": [
    "lt_an_p5 = bi2223_data_list['FS_AN_P5_25eV_CIRCP_LT_5eVpass_0000']\n",
    "ht_an_p5 = bi2223_data_list['FS_AN_P5_25eV_CIRCP_HT_10eVpass_0000']\n"
   ]
  },
  {
   "cell_type": "markdown",
   "metadata": {},
   "source": [
    "Overview of the LT P5 Dataset"
   ]
  },
  {
   "cell_type": "code",
   "execution_count": null,
   "metadata": {},
   "outputs": [],
   "source": [
    "fig, ax = plt.subplots()\n",
    "\n",
    "lt_an_p5.S.fermi_surface.plot()\n",
    "lt_p5_rect_b = patches.Rectangle((-0.4, -0.58), 0.8, 0.18, linewidth=2, edgecolor='r', facecolor='none')\n",
    "lt_p5_rect_t = patches.Rectangle((-0.4, 0.4), 0.8, 0.18, linewidth=2, edgecolor='w', facecolor='none')\n",
    "lt_p5_rect_l = patches.Rectangle((-0.58, -0.4), 0.18, 0.8, linewidth=2, edgecolor='k', facecolor='none')\n",
    "lt_p5_rect_r = patches.Rectangle((0.4, -0.4), 0.22, 0.8, linewidth=2, edgecolor='orange', facecolor='none')\n",
    "ax.add_patch(lt_p5_rect_b)\n",
    "ax.add_patch(lt_p5_rect_t)\n",
    "ax.add_patch(lt_p5_rect_l)\n",
    "ax.add_patch(lt_p5_rect_r)\n",
    "plt.show()"
   ]
  },
  {
   "cell_type": "code",
   "execution_count": null,
   "metadata": {},
   "outputs": [],
   "source": [
    "ky1 = lt_p5_rect_b.get_x()\n",
    "ky2 = lt_p5_rect_b.get_x() + lt_p5_rect_b.get_width()\n",
    "kx_list = np.arange(lt_p5_rect_b.get_y(), lt_p5_rect_b.get_y()+lt_p5_rect_b.get_height(), 0.02)\n",
    "rows = math.ceil(len(kx_list)/3)\n",
    "fig, ax = plt.subplots(rows, 3, figsize=(14, rows*4))\n",
    "for i, kx_value in enumerate(kx_list):\n",
    "    lt_an_p5.sel(kx=slice(kx_value, kx_value+0.02), ky=slice(ky1,ky2), eV=slice(-0.125, 0.025)).sum(\"kx\").plot(ax=ax.ravel()[i])\n",
    "    ax.ravel()[i].set_title(f\"kx = {np.round(kx_value, 2)} to {np.round(kx_value+0.02, 2)}\")\n",
    "\n",
    "plt.suptitle('Red boxed area')\n",
    "plt.tight_layout(rect=[0, 0.03, 1, 0.98])"
   ]
  },
  {
   "cell_type": "code",
   "execution_count": null,
   "metadata": {},
   "outputs": [],
   "source": [
    "ky1 = lt_p5_rect_t.get_x()\n",
    "ky2 = lt_p5_rect_t.get_x() + lt_p5_rect_t.get_width()\n",
    "kx_list = np.arange(lt_p5_rect_t.get_y(), lt_p5_rect_t.get_y()+lt_p5_rect_t.get_height(), 0.02)\n",
    "rows = math.ceil(len(kx_list)/3)\n",
    "fig, ax = plt.subplots(rows, 3, figsize=(14, rows*4))\n",
    "for i, kx_value in enumerate(kx_list):\n",
    "    lt_an_p5.sel(kx=slice(kx_value, kx_value+0.02), ky=slice(ky1,ky2), eV=slice(-0.125, 0.025)).sum(\"kx\").plot(ax=ax.ravel()[i])\n",
    "    ax.ravel()[i].set_title(f\"kx ={np.round(kx_value, 2)} to {np.round(kx_value+0.02, 2)}\")\n",
    "\n",
    "plt.suptitle('White boxed area')\n",
    "plt.tight_layout(rect=[0, 0.03, 1, 0.98])"
   ]
  },
  {
   "cell_type": "code",
   "execution_count": null,
   "metadata": {},
   "outputs": [],
   "source": [
    "ky1 = lt_p5_rect_l.get_y()\n",
    "ky2 = lt_p5_rect_l.get_y() + lt_p5_rect_l.get_height()\n",
    "kx_list = np.arange(lt_p5_rect_l.get_x(), lt_p5_rect_l.get_x()+lt_p5_rect_l.get_width(), 0.02)\n",
    "rows = math.ceil(len(kx_list)/3)\n",
    "fig, ax = plt.subplots(rows, 3, figsize=(14, rows*4))\n",
    "for i, kx_value in enumerate(kx_list):\n",
    "    lt_an_p5.sel(ky=slice(kx_value, kx_value+0.02), kx=slice(ky1,ky2), eV=slice(-0.125, 0.025)).sum(\"ky\").plot(ax=ax.ravel()[i])\n",
    "    ax.ravel()[i].set_title(f\"ky = {np.round(kx_value, 2)} to {np.round(kx_value+0.02, 2)}\")\n",
    "\n",
    "plt.suptitle('Black boxed area')\n",
    "plt.tight_layout(rect=[0, 0.03, 1, 0.98])"
   ]
  },
  {
   "cell_type": "code",
   "execution_count": null,
   "metadata": {},
   "outputs": [],
   "source": [
    "ky1 = lt_p5_rect_r.get_y()\n",
    "ky2 = lt_p5_rect_r.get_y() + lt_p5_rect_r.get_height()\n",
    "kx_list = np.arange(lt_p5_rect_r.get_x(), lt_p5_rect_r.get_x()+lt_p5_rect_r.get_width(), 0.02)\n",
    "rows = math.ceil(len(kx_list)/3)\n",
    "fig, ax = plt.subplots(rows, 3, figsize=(14, rows*4))\n",
    "for i, kx_value in enumerate(kx_list):\n",
    "    lt_an_p5.sel(ky=slice(kx_value, kx_value+0.02), kx=slice(-0.4,0.4), eV=slice(-0.125, 0.025)).sum(\"ky\").plot(ax=ax.ravel()[i])\n",
    "    ax.ravel()[i].set_title(f\"ky = {np.round(kx_value, 2)} to {np.round(kx_value+0.02, 2)}\")\n",
    "\n",
    "plt.suptitle('Orange boxed area')\n",
    "plt.tight_layout(rect=[0, 0.03, 1, 0.98])"
   ]
  },
  {
   "cell_type": "markdown",
   "metadata": {},
   "source": [
    "Overview of the HT P5 Dataset"
   ]
  },
  {
   "cell_type": "code",
   "execution_count": null,
   "metadata": {},
   "outputs": [],
   "source": [
    "fig, ax = plt.subplots()\n",
    "\n",
    "ht_an_p5.S.fermi_surface.plot()\n",
    "ht_p5_rect_b = patches.Rectangle((-0.4, -0.58), 0.8, 0.18, linewidth=2, edgecolor='r', facecolor='none')\n",
    "ht_p5_rect_t = patches.Rectangle((-0.4, 0.4), 0.8, 0.18, linewidth=2, edgecolor='w', facecolor='none')\n",
    "ht_p5_rect_l = patches.Rectangle((-0.6, -0.4), 0.2, 0.8, linewidth=2, edgecolor='k', facecolor='none')\n",
    "ht_p5_rect_r = patches.Rectangle((0.4, -0.4), 0.22, 0.8, linewidth=2, edgecolor='orange', facecolor='none')\n",
    "ax.add_patch(ht_p5_rect_b)\n",
    "ax.add_patch(ht_p5_rect_t)\n",
    "ax.add_patch(ht_p5_rect_l)\n",
    "ax.add_patch(ht_p5_rect_r)\n",
    "plt.show()"
   ]
  },
  {
   "cell_type": "code",
   "execution_count": null,
   "metadata": {},
   "outputs": [],
   "source": [
    "ky1 = ht_p5_rect_b.get_x()\n",
    "ky2 = ht_p5_rect_b.get_x() + ht_p5_rect_b.get_width()\n",
    "kx_list = np.arange(ht_p5_rect_b.get_y(), ht_p5_rect_b.get_y()+ht_p5_rect_b.get_height(), 0.02)\n",
    "rows = math.ceil(len(kx_list)/3)\n",
    "fig, ax = plt.subplots(rows, 3, figsize=(14, rows*4))\n",
    "for i, kx_value in enumerate(kx_list):\n",
    "    ht_an_p5.sel(kx=slice(kx_value, kx_value+0.02), ky=slice(ky1,ky2), eV=slice(-0.125, 0.05)).sum(\"kx\").plot(ax=ax.ravel()[i])\n",
    "    ax.ravel()[i].set_title(f\"kx = {np.round(kx_value, 2)} to {np.round(kx_value+0.02, 2)}\")\n",
    "\n",
    "plt.suptitle('Red boxed area')\n",
    "plt.tight_layout(rect=[0, 0.03, 1, 0.98])"
   ]
  },
  {
   "cell_type": "code",
   "execution_count": null,
   "metadata": {},
   "outputs": [],
   "source": [
    "ky1 = ht_p5_rect_t.get_x()\n",
    "ky2 = ht_p5_rect_t.get_x() + ht_p5_rect_t.get_width()\n",
    "kx_list = np.arange(ht_p5_rect_t.get_y(), ht_p5_rect_t.get_y()+ht_p5_rect_t.get_height(), 0.02)\n",
    "rows = math.ceil(len(kx_list)/3)\n",
    "fig, ax = plt.subplots(rows, 3, figsize=(14, rows*4))\n",
    "for i, kx_value in enumerate(kx_list):\n",
    "    ht_an_p5.sel(kx=slice(kx_value, kx_value+0.02), ky=slice(ky1,ky2), eV=slice(-0.125, 0.05)).sum(\"kx\").plot(ax=ax.ravel()[i])\n",
    "    ax.ravel()[i].set_title(f\"kx ={np.round(kx_value, 2)} to {np.round(kx_value+0.02, 2)}\")\n",
    "\n",
    "plt.suptitle('White boxed area')\n",
    "plt.tight_layout(rect=[0, 0.03, 1, 0.98])"
   ]
  },
  {
   "cell_type": "code",
   "execution_count": null,
   "metadata": {},
   "outputs": [],
   "source": [
    "ky1 = ht_p5_rect_l.get_y()\n",
    "ky2 = ht_p5_rect_l.get_y() + ht_p5_rect_l.get_height()\n",
    "kx_list = np.arange(ht_p5_rect_l.get_x(), ht_p5_rect_l.get_x()+ht_p5_rect_l.get_width(), 0.02)\n",
    "rows = math.ceil(len(kx_list)/3)\n",
    "fig, ax = plt.subplots(rows, 3, figsize=(14, rows*4))\n",
    "for i, kx_value in enumerate(kx_list):\n",
    "    ht_an_p5.sel(ky=slice(kx_value, kx_value+0.02), kx=slice(ky1,ky2), eV=slice(-0.125, 0.05)).sum(\"ky\").plot(ax=ax.ravel()[i])\n",
    "    ax.ravel()[i].set_title(f\"ky = {np.round(kx_value, 2)} to {np.round(kx_value+0.02, 2)}\")\n",
    "\n",
    "plt.suptitle('Black boxed area')\n",
    "plt.tight_layout(rect=[0, 0.03, 1, 0.98])"
   ]
  },
  {
   "cell_type": "code",
   "execution_count": null,
   "metadata": {},
   "outputs": [],
   "source": [
    "ky1 = ht_p5_rect_r.get_y()\n",
    "ky2 = ht_p5_rect_r.get_y() + ht_p5_rect_r.get_height()\n",
    "kx_list = np.arange(ht_p5_rect_r.get_x(), ht_p5_rect_r.get_x()+ht_p5_rect_r.get_width(), 0.02)\n",
    "rows = math.ceil(len(kx_list)/3)\n",
    "fig, ax = plt.subplots(rows, 3, figsize=(14, rows*4))\n",
    "for i, kx_value in enumerate(kx_list):\n",
    "    ht_an_p5.sel(ky=slice(kx_value, kx_value+0.02), kx=slice(-0.4,0.4), eV=slice(-0.125, 0.05)).sum(\"ky\").plot(ax=ax.ravel()[i])\n",
    "    ax.ravel()[i].set_title(f\"ky = {np.round(kx_value, 2)} to {np.round(kx_value+0.02, 2)}\")\n",
    "\n",
    "plt.suptitle('Orange boxed area')\n",
    "plt.tight_layout(rect=[0, 0.03, 1, 0.98])"
   ]
  },
  {
   "cell_type": "code",
   "execution_count": null,
   "metadata": {},
   "outputs": [],
   "source": [
    "fig, ax = plt.subplots(1, 1, figsize=(6, 5))\n",
    "lt_an_p5.sel(eV=slice(-0.02,0.02)).sum(\"eV\").plot(ax=ax, cmap='viridis')\n",
    "\n",
    "# plt.ylim(-0.56, 0)\n",
    "# plt.xlim(-0, 0.56)\n",
    "plt.title('')\n",
    "plt.ylabel('$k_y$ ($\\AA^{-1}$)', fontsize=18)\n",
    "plt.xlabel('$k_x$ ($\\AA^{-1}$)', fontsize=18)\n",
    "plt.tick_params(axis='both', which='major', labelsize=16)\n",
    "# plt.yticks(np.arange(-0.4, 0.5, 0.2))\n",
    "# plt.xticks(np.arange(-0.4, 0.5, 0.2))\n",
    "ax.collections[0].colorbar.remove()\n",
    "cbar = plt.colorbar(ax.collections[0], ax=ax)\n",
    "cbar.set_label('Intensity', fontsize=16, labelpad=5)\n",
    "cbar.set_ticks([])\n",
    "# set x and y axis to be equal\n",
    "plt.gca().set_aspect('equal', adjustable='box')\n",
    "plt.show()"
   ]
  },
  {
   "cell_type": "code",
   "execution_count": null,
   "metadata": {},
   "outputs": [],
   "source": []
  }
 ],
 "metadata": {
  "kernelspec": {
   "display_name": "pyarpes_kernel",
   "language": "python",
   "name": "arpes"
  },
  "language_info": {
   "codemirror_mode": {
    "name": "ipython",
    "version": 3
   },
   "file_extension": ".py",
   "mimetype": "text/x-python",
   "name": "python",
   "nbconvert_exporter": "python",
   "pygments_lexer": "ipython3",
   "version": "3.8.13"
  }
 },
 "nbformat": 4,
 "nbformat_minor": 2
}
