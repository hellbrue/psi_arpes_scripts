{
 "cells": [
  {
   "cell_type": "code",
   "execution_count": null,
   "metadata": {},
   "outputs": [],
   "source": [
    "%load_ext autoreload\n",
    "%autoreload 2\n",
    "from arpes.all import *\n",
    "import os.path\n",
    "import matplotlib.pyplot as plt\n",
    "import matplotlib.patches as patches\n",
    "import math\n",
    "import numpy as np\n",
    "%matplotlib inline"
   ]
  },
  {
   "cell_type": "code",
   "execution_count": null,
   "metadata": {},
   "outputs": [],
   "source": [
    "# Define directory\n",
    "path = os.path.abspath(\"G:\\My Drive\\Box_1_square_renamed\")\n",
    "\n",
    "# Different parameters used to set up scans at SLS\n",
    "scan_type = '*'\n",
    "direction = 'X'\n",
    "phi = '*'\n",
    "energy = '25eV'\n",
    "polarization = '*'\n",
    "temp = '*'\n",
    "e_pass = '*'+'eVpass'\n",
    "comment = '*'\n",
    "run = '*'.zfill(4)\n",
    "\n",
    "# Put together string for finding file\n",
    "parameters = [scan_type, direction, phi, energy, polarization, temp, e_pass, comment, run]\n",
    "if comment == '':\n",
    "    parameters.remove(comment)\n",
    "file_type = 'h5'\n",
    "file_name = '_'.join(parameters)\n",
    "file = '.'.join([file_name , file_type])\n",
    "\n",
    "au_full_file = os.path.join(path, file)\n",
    "file"
   ]
  },
  {
   "cell_type": "code",
   "execution_count": null,
   "metadata": {},
   "outputs": [],
   "source": [
    "import glob\n",
    "# Load all files with above specified parameters, * is a placeholder and imports all files in its place\n",
    "au_files = glob.glob(au_full_file)\n",
    "print(len(au_files))\n",
    "au_files"
   ]
  },
  {
   "cell_type": "code",
   "execution_count": 4,
   "metadata": {},
   "outputs": [],
   "source": [
    "au_raw_data_list = {}\n",
    "for file in au_files:\n",
    "    #data_list.append(load_data(file, location=\"ULTRA\"))\n",
    "    data = load_data(file, location=\"ULTRA\")\n",
    "    # k_data = convert_to_kspace(data.spectrum)\n",
    "    file_name = file.replace(path, '')[1:-3]\n",
    "    au_raw_data_list.update({file_name : data})"
   ]
  },
  {
   "cell_type": "markdown",
   "metadata": {},
   "source": [
    "poly Au used to determine Fermi level. Determine Fermiedge and apply to data below"
   ]
  },
  {
   "cell_type": "code",
   "execution_count": null,
   "metadata": {},
   "outputs": [],
   "source": [
    "au_lt = au_raw_data_list['EDC_X_P95_25eV_UNKN_LT_5eVpass_GoldRef11K_0007']\n",
    "au_lt.S.plot()"
   ]
  },
  {
   "cell_type": "code",
   "execution_count": null,
   "metadata": {},
   "outputs": [],
   "source": [
    "from arpes.analysis.general import rebin\n",
    "\n",
    "binned = rebin(au_lt, phi=10).spectrum\n",
    "binned.plot()"
   ]
  },
  {
   "cell_type": "code",
   "execution_count": null,
   "metadata": {},
   "outputs": [],
   "source": [
    "from arpes.all import AffineBroadenedFD, broadcast_model\n",
    "fermi_level = binned.sel(phi=slice(-0.2,0.2), eV=slice(-0.2,0.1))\n",
    "results = broadcast_model(AffineBroadenedFD, fermi_level, \"phi\")\n",
    "\n",
    "fig, ax = plt.subplots()\n",
    "fermi_level.plot(ax=ax)\n",
    "ax.scatter(*results.F.p(\"fd_center\").G.to_arrays(), color=\"red\")\n",
    "ax.axhline(y=0, color='k', linestyle='--', linewidth=1)"
   ]
  },
  {
   "cell_type": "code",
   "execution_count": null,
   "metadata": {},
   "outputs": [],
   "source": [
    "from arpes.fits.fit_models import LinearModel\n",
    "lin_mod = LinearModel().guess_fit(results.F.p(\"fd_center\"))\n",
    "lin_mod.plot()\n",
    "plt.show()"
   ]
  },
  {
   "cell_type": "code",
   "execution_count": null,
   "metadata": {},
   "outputs": [],
   "source": [
    "edc = au_lt.spectrum\n",
    "edge = lin_mod.eval(x=edc.phi)\n",
    "\n",
    "corrected_edc = edc.G.shift_by(edge, \"eV\")\n",
    "\n",
    "fig, axes = plt.subplots(1, 2, figsize=(10, 5))\n",
    "corrected_edc.plot(ax=axes[0], vmax=10)\n",
    "edc.plot(ax=axes[1], vmax=20)\n",
    "# plot vertical lines for y = 0\n",
    "for ax in axes:\n",
    "    ax.set_title(\"\")\n",
    "    ax.axhline(y=0, color='k', linestyle='--', linewidth=1)"
   ]
  },
  {
   "cell_type": "code",
   "execution_count": null,
   "metadata": {},
   "outputs": [],
   "source": [
    "# Define directory\n",
    "path = os.path.abspath(\"G:\\My Drive\\Box_1_square_renamed\")\n",
    "\n",
    "# Different parameters used to set up scans at SLS\n",
    "scan_type = 'FS'\n",
    "direction = 'N'\n",
    "phi = 'P50'\n",
    "energy = '*'\n",
    "polarization = 'CIRCP'\n",
    "temp = 'LT'\n",
    "e_pass = '*'+'eVpass'\n",
    "comment = ''\n",
    "run = '*'.zfill(4)\n",
    "\n",
    "# Put together string for finding file\n",
    "parameters = [scan_type, direction, phi, energy, polarization, temp, e_pass, comment, run]\n",
    "if comment == '':\n",
    "    parameters.remove(comment)\n",
    "file_type = 'h5'\n",
    "file_name = '_'.join(parameters)\n",
    "file = '.'.join([file_name , file_type])\n",
    "\n",
    "bi2223_full_file = os.path.join(path, file)\n",
    "file"
   ]
  },
  {
   "cell_type": "code",
   "execution_count": null,
   "metadata": {},
   "outputs": [],
   "source": [
    "import glob\n",
    "# Load all files with above specified parameters, * is a placeholder and imports all files in its place\n",
    "bi2223_files = glob.glob(bi2223_full_file)\n",
    "print(len(bi2223_files))\n",
    "bi2223_files"
   ]
  },
  {
   "cell_type": "code",
   "execution_count": 12,
   "metadata": {},
   "outputs": [],
   "source": [
    "bi2223_data_list = {}\n",
    "for file in bi2223_files:\n",
    "    #data_list.append(load_data(file, location=\"ULTRA\"))\n",
    "    raw_data = load_data(file, location=\"ULTRA\")\n",
    "    edge = lin_mod.eval(x=raw_data.spectrum.phi)\n",
    "    corrected_data = raw_data.spectrum.G.shift_by(edge, \"eV\")\n",
    "    corrected_data.S.apply_offsets({\"beta\": -0.0077, \"phi\": -0.004})\n",
    "    k_data = convert_to_kspace(corrected_data)\n",
    "    file_name = file.replace(path, '')[1:-3]\n",
    "    bi2223_data_list.update({file_name : k_data})"
   ]
  },
  {
   "cell_type": "markdown",
   "metadata": {},
   "source": [
    "Initalize datasets"
   ]
  },
  {
   "cell_type": "code",
   "execution_count": 14,
   "metadata": {},
   "outputs": [],
   "source": [
    "lt_n_p5 = bi2223_data_list['FS_N_P50_26p5eV_CIRCP_LT_10eVpass_0000']\n"
   ]
  },
  {
   "cell_type": "markdown",
   "metadata": {},
   "source": [
    "Overview of the LT P5 Dataset"
   ]
  },
  {
   "cell_type": "code",
   "execution_count": null,
   "metadata": {},
   "outputs": [],
   "source": [
    "fig, ax = plt.subplots(1, 1, figsize=(6, 5))\n",
    "lt_n_p5.sel(eV=slice(-0.02,0.02)).sum(\"eV\").plot(ax=ax, cmap='viridis')\n",
    "\n",
    "# plt.ylim(-0.56, 0)\n",
    "# plt.xlim(-0, 0.56)\n",
    "plt.title('')\n",
    "plt.ylabel('$k_y$ ($\\AA^{-1}$)', fontsize=18)\n",
    "plt.xlabel('$k_x$ ($\\AA^{-1}$)', fontsize=18)\n",
    "plt.tick_params(axis='both', which='major', labelsize=16)\n",
    "# plt.yticks(np.arange(-0.4, 0.5, 0.2))\n",
    "# plt.xticks(np.arange(-0.4, 0.5, 0.2))\n",
    "\n",
    "kxs = [-0.55, -0.5, -0.45, -0.4, -0.35, -0.30, -0.25, -0.22, -0.2]\n",
    "kys = [0.16, 0.18, 0.21, 0.24, 0.27, 0.32, 0.38, 0.44, 0.49]\n",
    "for kx, ky in zip(kxs, kys):\n",
    "    plt.scatter(kx, ky, color='red', s=50, marker='x')\n",
    "\n",
    "ax.collections[0].colorbar.remove()\n",
    "cbar = plt.colorbar(ax.collections[0], ax=ax)\n",
    "cbar.set_label('Intensity', fontsize=16, labelpad=5)\n",
    "cbar.set_ticks([])\n",
    "# set x and y axis to be equal\n",
    "plt.gca().set_aspect('equal', adjustable='box')\n",
    "plt.show()"
   ]
  },
  {
   "cell_type": "code",
   "execution_count": 32,
   "metadata": {},
   "outputs": [],
   "source": [
    "def normalize(data):\n",
    "    return (data - data.sel(eV=slice(0.05,0.07)).mean(\"eV\")) / max(data.values)"
   ]
  },
  {
   "cell_type": "code",
   "execution_count": null,
   "metadata": {},
   "outputs": [],
   "source": [
    "fig, ax = plt.subplots(1, 1, figsize=(7, 5))\n",
    "\n",
    "edc_an = lt_an_p5.sel(eV=slice(-0.24,None), kx=slice(-0.58,-0.52), ky=slice(0.13,0.19)).sum(\"kx\").sum(\"ky\")\n",
    "edc_n = lt_an_p5.sel(eV=slice(-0.24,None), kx=slice(-0.33,-0.28), ky=slice(0.28,0.31)).sum(\"kx\").sum(\"ky\")\n",
    "au_ref =corrected_edc.sel(eV=slice(-0.24,None), phi=slice(-0.05,0.05)).sum(\"phi\")\n",
    "\n",
    "normalize(au_ref).plot(ax=ax, label='Au')\n",
    "normalize(edc_n).plot(ax=ax, label='N')\n",
    "normalize(edc_an).plot(ax=ax, label='AN')\n",
    "\n",
    "plt.legend()"
   ]
  },
  {
   "cell_type": "code",
   "execution_count": null,
   "metadata": {},
   "outputs": [],
   "source": [
    "fig, (ax, ax2) = plt.subplots(1, 2, figsize=(10, 10))\n",
    "\n",
    "cmap = plt.get_cmap('copper')\n",
    "colors = [cmap(i) for i in np.linspace(0, 1, len(kxs)+3)]\n",
    "\n",
    "i=0\n",
    "for kx, ky in zip(kxs, kys):\n",
    "    edc = lt_an_p5.sel(eV=slice(-0.1,0.1), kx=slice(kx-0.01,kx+0.01), ky=slice(ky-0.01,ky+0.01)).sum(\"kx\").sum(\"ky\")\n",
    "    (normalize(edc)+i*0.8).sel(eV=slice(-0.08,0)).plot(ax=ax, label=f'({kx}, {ky})', color=colors[i+1])\n",
    "    ax.plot(-1*edc.sel(eV=slice(-0.08,0)).eV.values, (normalize(edc)+i*0.8).sel(eV=slice(-0.08,0)).values, color=colors[i+1])\n",
    "    i+=1\n",
    "\n",
    "i=0\n",
    "for kx, ky in zip(kxs, kys):\n",
    "    edc = ht_an_p5.sel(eV=slice(-0.1,0.1), kx=slice(kx-0.01,kx+0.01), ky=slice(ky-0.01,ky+0.01)).sum(\"kx\").sum(\"ky\")\n",
    "    (normalize(edc)+i*0.8).sel(eV=slice(-0.08,0)).plot(ax=ax2, label=f'({kx}, {ky})', color=colors[i+1])\n",
    "    ax2.plot(-1*edc.sel(eV=slice(-0.08,0)).eV.values, (normalize(edc)+i*0.8).sel(eV=slice(-0.08,0)).values, color=colors[i+1])\n",
    "    i+=1\n",
    "\n",
    "for axis in [ax, ax2]:\n",
    "    axis.set_title('')\n",
    "    axis.set_ylabel('Intensity')\n",
    "    axis.set_xlabel('Energy (eV)')\n"
   ]
  },
  {
   "cell_type": "code",
   "execution_count": null,
   "metadata": {},
   "outputs": [],
   "source": [
    "fig, ax = plt.subplots(1, 1, figsize=(6, 5))\n",
    "lt_an_p5.sel(eV=slice(-0.02,0.02)).sum(\"eV\").plot(ax=ax, cmap='viridis', vmin=20, vmax=100)\n",
    "\n",
    "# plt.ylim(-0.4, 0.4)\n",
    "# plt.xlim(0.0, 0.55)\n",
    "plt.title('')\n",
    "plt.ylabel('$k_y$ ($\\AA^{-1}$)', fontsize=18)\n",
    "plt.xlabel('$k_x$ ($\\AA^{-1}$)', fontsize=18)\n",
    "plt.tick_params(axis='both', which='major', labelsize=16)\n",
    "\n",
    "\n",
    "ax.collections[0].colorbar.remove()\n",
    "cbar = plt.colorbar(ax.collections[0], ax=ax)\n",
    "cbar.set_label('Intensity', fontsize=16, labelpad=5)\n",
    "cbar.set_ticks([])\n",
    "# set x and y axis to be equal\n",
    "plt.gca().set_aspect('equal', adjustable='box')\n",
    "plt.show()"
   ]
  },
  {
   "cell_type": "code",
   "execution_count": null,
   "metadata": {},
   "outputs": [],
   "source": [
    "fig, ax = plt.subplots(1, 1, figsize=(6, 5))\n",
    "\n",
    "edm = lt_an_p5.sel(kx=slice(-0.55,0), eV=slice(-0.08,0.02), ky=slice(-0.48,-0.42)).sum(\"ky\")\n",
    "edm.plot(ax=ax, vmin=3, vmax=10, cmap='PuBu_r')"
   ]
  },
  {
   "cell_type": "code",
   "execution_count": null,
   "metadata": {},
   "outputs": [],
   "source": [
    "\n",
    "fig, ax = plt.subplots(3, 5, figsize=(20, 15))\n",
    "\n",
    "kxs = np.arange(-0.35, 0.36, 0.05)\n",
    "\n",
    "for i, kx in enumerate(kxs):\n",
    "    edm = lt_n_p5.sel(ky=slice(0.2,0.5), eV=slice(-0.08,0.02), kx=slice(kx-0.02,kx+0.02)).sum(\"kx\")\n",
    "    edm.plot(ax=ax.flat[i])\n",
    "    ax.flat[i].set_title(f'ky={np.round(kx,2)}')\n",
    "\n",
    "\n",
    "plt.tight_layout()"
   ]
  },
  {
   "cell_type": "code",
   "execution_count": null,
   "metadata": {},
   "outputs": [],
   "source": [
    "\n",
    "fig, ax = plt.subplots(3, 5, figsize=(20, 15))\n",
    "\n",
    "kxs = np.arange(-0.35, 0.36, 0.05)\n",
    "\n",
    "for i, kx in enumerate(kxs):\n",
    "    edm = lt_n_p5.sel(ky=slice(-0.6,-0.4), eV=slice(-0.08,0.02), kx=slice(kx-0.02,kx+0.02)).sum(\"kx\")\n",
    "    edm.plot(ax=ax.flat[i])\n",
    "    ax.flat[i].set_title(f'ky={np.round(kx,2)}')\n",
    "\n",
    "\n",
    "plt.tight_layout()"
   ]
  }
 ],
 "metadata": {
  "kernelspec": {
   "display_name": "pyarpes_kernel",
   "language": "python",
   "name": "arpes"
  },
  "language_info": {
   "codemirror_mode": {
    "name": "ipython",
    "version": 3
   },
   "file_extension": ".py",
   "mimetype": "text/x-python",
   "name": "python",
   "nbconvert_exporter": "python",
   "pygments_lexer": "ipython3",
   "version": "3.8.13"
  }
 },
 "nbformat": 4,
 "nbformat_minor": 2
}
