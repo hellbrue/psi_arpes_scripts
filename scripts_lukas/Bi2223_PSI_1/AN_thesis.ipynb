{
 "cells": [
  {
   "cell_type": "code",
   "execution_count": null,
   "metadata": {},
   "outputs": [],
   "source": [
    "%load_ext autoreload\n",
    "%autoreload 2\n",
    "from arpes.all import *\n",
    "import os.path\n",
    "import matplotlib.pyplot as plt\n",
    "import matplotlib.patches as patches\n",
    "import math\n",
    "import numpy as np\n",
    "%matplotlib inline"
   ]
  },
  {
   "cell_type": "code",
   "execution_count": null,
   "metadata": {},
   "outputs": [],
   "source": [
    "# Define directory\n",
    "path = os.path.abspath(\"G:\\My Drive\\Box_1_square_renamed\")\n",
    "\n",
    "# Different parameters used to set up scans at SLS\n",
    "scan_type = '*'\n",
    "direction = 'X'\n",
    "phi = '*'\n",
    "energy = '25eV'\n",
    "polarization = '*'\n",
    "temp = '*'\n",
    "e_pass = '*'+'eVpass'\n",
    "comment = '*'\n",
    "run = '*'.zfill(4)\n",
    "\n",
    "# Put together string for finding file\n",
    "parameters = [scan_type, direction, phi, energy, polarization, temp, e_pass, comment, run]\n",
    "if comment == '':\n",
    "    parameters.remove(comment)\n",
    "file_type = 'h5'\n",
    "file_name = '_'.join(parameters)\n",
    "file = '.'.join([file_name , file_type])\n",
    "\n",
    "au_full_file = os.path.join(path, file)\n",
    "file"
   ]
  },
  {
   "cell_type": "code",
   "execution_count": null,
   "metadata": {},
   "outputs": [],
   "source": [
    "import glob\n",
    "# Load all files with above specified parameters, * is a placeholder and imports all files in its place\n",
    "au_files = glob.glob(au_full_file)\n",
    "print(len(au_files))\n",
    "au_files"
   ]
  },
  {
   "cell_type": "code",
   "execution_count": 5,
   "metadata": {},
   "outputs": [],
   "source": [
    "au_raw_data_list = {}\n",
    "for file in au_files:\n",
    "    #data_list.append(load_data(file, location=\"ULTRA\"))\n",
    "    data = load_data(file, location=\"ULTRA\")\n",
    "    # k_data = convert_to_kspace(data.spectrum)\n",
    "    file_name = file.replace(path, '')[1:-3]\n",
    "    au_raw_data_list.update({file_name : data})"
   ]
  },
  {
   "cell_type": "markdown",
   "metadata": {},
   "source": [
    "poly Au used to determine Fermi level. Determine Fermiedge and apply to data below"
   ]
  },
  {
   "cell_type": "code",
   "execution_count": null,
   "metadata": {},
   "outputs": [],
   "source": [
    "au_lt = au_raw_data_list['EDC_X_P95_25eV_UNKN_LT_5eVpass_GoldRef11K_0007']\n",
    "au_lt.S.plot()"
   ]
  },
  {
   "cell_type": "code",
   "execution_count": null,
   "metadata": {},
   "outputs": [],
   "source": [
    "from arpes.analysis.general import rebin\n",
    "\n",
    "binned = rebin(au_lt, phi=10).spectrum\n",
    "binned.plot()"
   ]
  },
  {
   "cell_type": "code",
   "execution_count": null,
   "metadata": {},
   "outputs": [],
   "source": [
    "from arpes.all import AffineBroadenedFD, broadcast_model\n",
    "fermi_level = binned.sel(phi=slice(-0.2,0.2), eV=slice(-0.2,0.1))\n",
    "results = broadcast_model(AffineBroadenedFD, fermi_level, \"phi\")\n",
    "\n",
    "fig, ax = plt.subplots()\n",
    "fermi_level.plot(ax=ax)\n",
    "ax.scatter(*results.F.p(\"fd_center\").G.to_arrays(), color=\"red\")\n",
    "ax.axhline(y=0, color='k', linestyle='--', linewidth=1)"
   ]
  },
  {
   "cell_type": "code",
   "execution_count": null,
   "metadata": {},
   "outputs": [],
   "source": [
    "from arpes.fits.fit_models import LinearModel\n",
    "lin_mod = LinearModel().guess_fit(results.F.p(\"fd_center\"))\n",
    "lin_mod.plot()\n",
    "plt.show()"
   ]
  },
  {
   "cell_type": "code",
   "execution_count": null,
   "metadata": {},
   "outputs": [],
   "source": [
    "edc = au_lt.spectrum\n",
    "edge = lin_mod.eval(x=edc.phi)\n",
    "\n",
    "corrected_edc = edc.G.shift_by(edge, \"eV\")\n",
    "\n",
    "fig, axes = plt.subplots(1, 2, figsize=(10, 5))\n",
    "corrected_edc.plot(ax=axes[0], vmax=10)\n",
    "edc.plot(ax=axes[1], vmax=20)\n",
    "# plot vertical lines for y = 0\n",
    "for ax in axes:\n",
    "    ax.set_title(\"\")\n",
    "    ax.axhline(y=0, color='k', linestyle='--', linewidth=1)"
   ]
  },
  {
   "cell_type": "code",
   "execution_count": null,
   "metadata": {},
   "outputs": [],
   "source": [
    "# Define directory\n",
    "path = os.path.abspath(\"G:\\My Drive\\Box_1_square_renamed\")\n",
    "\n",
    "# Different parameters used to set up scans at SLS\n",
    "scan_type = 'FS'\n",
    "direction = 'AN'\n",
    "phi = 'P5'\n",
    "energy = '*'\n",
    "polarization = '*'\n",
    "temp = '*'\n",
    "e_pass = '*'+'eVpass'\n",
    "comment = ''\n",
    "run = '*'.zfill(4)\n",
    "\n",
    "# Put together string for finding file\n",
    "parameters = [scan_type, direction, phi, energy, polarization, temp, e_pass, comment, run]\n",
    "if comment == '':\n",
    "    parameters.remove(comment)\n",
    "file_type = 'h5'\n",
    "file_name = '_'.join(parameters)\n",
    "file = '.'.join([file_name , file_type])\n",
    "\n",
    "bi2223_full_file = os.path.join(path, file)\n",
    "file"
   ]
  },
  {
   "cell_type": "code",
   "execution_count": null,
   "metadata": {},
   "outputs": [],
   "source": [
    "import glob\n",
    "# Load all files with above specified parameters, * is a placeholder and imports all files in its place\n",
    "bi2223_files = glob.glob(bi2223_full_file)\n",
    "print(len(bi2223_files))\n",
    "bi2223_files"
   ]
  },
  {
   "cell_type": "code",
   "execution_count": 13,
   "metadata": {},
   "outputs": [],
   "source": [
    "bi2223_data_list = {}\n",
    "for file in bi2223_files:\n",
    "    #data_list.append(load_data(file, location=\"ULTRA\"))\n",
    "    raw_data = load_data(file, location=\"ULTRA\")\n",
    "    edge = lin_mod.eval(x=raw_data.spectrum.phi)\n",
    "    corrected_data = raw_data.spectrum.G.shift_by(edge, \"eV\")\n",
    "    corrected_data.S.apply_offsets({\"beta\": -0.0077, \"phi\": -0.004})\n",
    "    k_data = convert_to_kspace(corrected_data)\n",
    "    file_name = file.replace(path, '')[1:-3]\n",
    "    bi2223_data_list.update({file_name : k_data})"
   ]
  },
  {
   "cell_type": "markdown",
   "metadata": {},
   "source": [
    "Initalize datasets"
   ]
  },
  {
   "cell_type": "code",
   "execution_count": 14,
   "metadata": {},
   "outputs": [],
   "source": [
    "lt_an_p5 = bi2223_data_list['FS_AN_P5_25eV_CIRCP_LT_5eVpass_0000']\n",
    "ht_an_p5 = bi2223_data_list['FS_AN_P5_25eV_CIRCP_HT_10eVpass_0000']\n"
   ]
  },
  {
   "cell_type": "markdown",
   "metadata": {},
   "source": [
    "Overview of the LT P5 Dataset"
   ]
  },
  {
   "cell_type": "code",
   "execution_count": null,
   "metadata": {},
   "outputs": [],
   "source": [
    "fig, ax = plt.subplots(1, 1, figsize=(6, 5))\n",
    "lt_an_p5.sel(eV=slice(-0.02,0.02)).sum(\"eV\").plot(ax=ax, cmap='PuBu_r', rasterized=True)\n",
    "\n",
    "plt.ylim(-0.56, 0.56)\n",
    "plt.xlim(-0.56, 0.56)\n",
    "plt.title('')\n",
    "plt.ylabel('k$_y$ ($\\AA^{-1}$)', fontsize=18)\n",
    "plt.xlabel('k$_x$ ($\\AA^{-1}$)', fontsize=18)\n",
    "plt.tick_params(axis='both', which='major', labelsize=16)\n",
    "# plt.yticks(np.arange(-0.4, 0.5, 0.2))\n",
    "# plt.xticks(np.arange(-0.4, 0.5, 0.2))\n",
    "\n",
    "kys = [-0.55, -0.5, -0.45, -0.4, -0.35, -0.30, -0.25, -0.22, -0.2]\n",
    "kxs = [0.16, 0.18, 0.21, 0.24, 0.27, 0.32, 0.38, 0.44, 0.49]\n",
    "for kx, ky in zip(kxs, kys):\n",
    "    plt.scatter(ky, kx, color='red', s=50, marker='x')\n",
    "\n",
    "ax.collections[0].colorbar.remove()\n",
    "cbar = plt.colorbar(ax.collections[0], ax=ax, fraction=0.1, pad=0.05, aspect=25)\n",
    "cbar.set_label('Intensity', fontsize=16, labelpad=5)\n",
    "cbar.ax.text(0.6, 1.0, 'Max', ha='center', va='bottom', transform=cbar.ax.transAxes, fontsize=12)\n",
    "cbar.ax.text(0.6, -0.06, 'Min', ha='center', va='bottom', transform=cbar.ax.transAxes, fontsize=12)\n",
    "cbar.set_ticks([])\n",
    "# set x and y axis to be equal\n",
    "# plt.gca().set_aspect('equal', adjustable='box')\n",
    "# plt.savefig('Bi2223_wmarkers.pdf',bbox_inches='tight')\n",
    "plt.show()"
   ]
  },
  {
   "cell_type": "code",
   "execution_count": 32,
   "metadata": {},
   "outputs": [],
   "source": [
    "def normalize(data):\n",
    "    return (data - data.sel(eV=slice(0.05,0.07)).mean(\"eV\")) / data.sel(eV=slice(-0.02,-0.01)).mean(\"eV\")"
   ]
  },
  {
   "cell_type": "code",
   "execution_count": null,
   "metadata": {},
   "outputs": [],
   "source": [
    "fig, ax = plt.subplots(1, 1, figsize=(6, 5))\n",
    "\n",
    "cmap = plt.get_cmap('copper')\n",
    "colors = [cmap(i) for i in np.linspace(0, 1, 5)]\n",
    "\n",
    "binned = rebin(lt_an_p5, eV=3)\n",
    "edc_an = binned.sel(eV=slice(-0.54,None), ky=slice(-0.6,-0.54), kx=slice(0.11,0.21)).sum(\"kx\").sum(\"ky\")\n",
    "edc_n = binned.sel(eV=slice(-0.54,None), ky=slice(-0.32,-0.29), kx=slice(0.25,0.33)).sum(\"kx\").sum(\"ky\")\n",
    "edc_an2 = binned.sel(eV=slice(-0.54,None), ky=slice(0.48,0.53), kx=slice(-0.23,-0.18)).sum(\"kx\").sum(\"ky\")\n",
    "au_ref =rebin(corrected_edc,eV=3).sel(eV=slice(-0.24,None), phi=slice(-0.05,0.05)).sum(\"phi\")\n",
    "\n",
    "normalize(au_ref).plot(ax=ax, label='Gold Ref', marker='o', markeredgewidth=1, markerfacecolor='none', markeredgecolor=colors[1], color=colors[1])\n",
    "normalize(edc_n).plot(ax=ax, label='Node', marker='o', markeredgewidth=1, markerfacecolor='none', markeredgecolor=colors[2], color=colors[2])\n",
    "normalize(edc_an).plot(ax=ax, label='Antinode', marker='o', markeredgewidth=1, markerfacecolor='none', markeredgecolor=colors[3], color=colors[3])\n",
    "# normalize(edc_an2).plot(ax=ax, label='AN')\n",
    "\n",
    "ax.set_xlim(-0.24,0.1)\n",
    "ax.set_ylim(-0.05,1.1)\n",
    "ax.set_title('')\n",
    "ax.set_ylabel('Intensity (arb. units)', fontsize=18, labelpad=10)\n",
    "ax.set_xlabel('Binding Energy $E_B$ (eV)', fontsize=18)\n",
    "ax.tick_params(axis='both', which='major', labelsize=16)\n",
    "\n",
    "plt.legend(fontsize=12)\n",
    "plt.savefig('Bi2223_EDCs.pdf', bbox_inches='tight')"
   ]
  },
  {
   "cell_type": "code",
   "execution_count": null,
   "metadata": {},
   "outputs": [],
   "source": [
    "fig, (ax, ax2) = plt.subplots(1, 2, figsize=(5, 5))\n",
    "\n",
    "cmap = plt.get_cmap('copper')\n",
    "colors = [cmap(i) for i in np.linspace(0, 1, len(kxs)+3)]\n",
    "\n",
    "i=0\n",
    "for kx, ky in zip(kxs, kys):\n",
    "    edc = lt_an_p5.sel(eV=slice(-0.1,0.1), kx=slice(kx-0.02,kx+0.02), ky=slice(ky-0.02,ky+0.02)).sum(\"kx\").sum(\"ky\")\n",
    "    (normalize(edc)+i*0.8).sel(eV=slice(-0.08,0)).plot(ax=ax, label=f'({kx}, {ky})', color=colors[i+1])\n",
    "    ax.plot(-1*edc.sel(eV=slice(-0.08,0)).eV.values, (normalize(edc)+i*0.8).sel(eV=slice(-0.08,0)).values, color=colors[i+1])\n",
    "    i+=1\n",
    "\n",
    "i=0\n",
    "for kx, ky in zip(kxs, kys):\n",
    "    edc = ht_an_p5.sel(eV=slice(-0.1,0.1), kx=slice(kx-0.02,kx+0.02), ky=slice(ky-0.02,ky+0.02)).sum(\"kx\").sum(\"ky\")\n",
    "    (normalize(edc)+i*0.8).sel(eV=slice(-0.08,0)).plot(ax=ax2, label=f'({kx}, {ky})', color=colors[i+1])\n",
    "    ax2.plot(-1*edc.sel(eV=slice(-0.08,0)).eV.values, (normalize(edc)+i*0.8).sel(eV=slice(-0.08,0)).values, color=colors[i+1])\n",
    "    i+=1\n",
    "\n",
    "for axis in [ax, ax2]:\n",
    "    axis.set_title('')\n",
    "    axis.set_ylabel('', fontsize=18)\n",
    "    axis.set_xlabel('', fontsize=18)\n",
    "    axis.yaxis.set_ticks([])\n",
    "    axis.yaxis.set_ticklabels([])\n",
    "    axis.set_xlim(-0.08, 0.08)\n",
    "\n",
    "ax.tick_params(axis='both', which='major', labelsize=16)\n",
    "ax2.tick_params(axis='both', which='major', labelsize=16)\n",
    "ax.set_ylabel('Intensity', fontsize=18)\n",
    "ax.set_xlabel('E$_B$ (eV)', fontsize=18)\n",
    "ax2.set_xlabel('E$_B$ (eV)', fontsize=18)\n",
    "\n",
    "e=0.015\n",
    "ax.axvline(x=-e, color='k', linestyle='--', linewidth=1)\n",
    "ax.axvline(x=e, color='k', linestyle='--', linewidth=1)\n",
    "\n",
    "plt.subplots_adjust(wspace=0.03)\n",
    "# plt.savefig('Bi2223_gap_small.pdf', bbox_inches='tight')"
   ]
  },
  {
   "cell_type": "code",
   "execution_count": null,
   "metadata": {},
   "outputs": [],
   "source": [
    "fig, ax = plt.subplots(1, 1, figsize=(3, 5))\n",
    "lt_an_p5.sel(eV=slice(-0.04,0.02)).sum(\"eV\").plot(ax=ax, cmap='PuBu_r', vmin=10, vmax=70, rasterized=True)\n",
    "\n",
    "plt.ylim(-0.55, -0.1)\n",
    "plt.xlim(0.3, 0.55)\n",
    "plt.title('')\n",
    "plt.ylabel('k$_y$ ($\\AA^{-1}$)', fontsize=18)\n",
    "plt.xlabel('k$_x$ ($\\AA^{-1}$)', fontsize=18)\n",
    "plt.tick_params(axis='both', which='major', labelsize=16)\n",
    "\n",
    "\n",
    "ax.collections[0].colorbar.remove()\n",
    "cbar = plt.colorbar(ax.collections[0], ax=ax, fraction=0.1, pad=0.05, aspect=25)\n",
    "cbar.set_label('Intensity', fontsize=16, labelpad=5)\n",
    "cbar.ax.text(0.6, 1.0, 'Max', ha='center', va='bottom', transform=cbar.ax.transAxes, fontsize=12)\n",
    "cbar.ax.text(0.6, -0.06, 'Min', ha='center', va='bottom', transform=cbar.ax.transAxes, fontsize=12)\n",
    "cbar.set_ticks([])\n",
    "# set x and y axis to be equal\n",
    "# plt.gca().set_aspect('equal', adjustable='box')\n",
    "# plt.savefig('Bi2223_FS_trilayer.pdf', bbox_inches='tight')\n",
    "plt.show()"
   ]
  },
  {
   "cell_type": "code",
   "execution_count": null,
   "metadata": {},
   "outputs": [],
   "source": [
    "fig, ax = plt.subplots(1, 1, figsize=(6, 5))\n",
    "lt_an_p5.sel(eV=slice(-0.01,0.01)).sum(\"eV\").plot(ax=ax, cmap='PuBu_r', vmin=5, vmax=80, rasterized=True)\n",
    "\n",
    "ax.set_ylim(-0.55, -0.)\n",
    "ax.set_xlim(0.0, 0.55)\n",
    "ax.set_title('')\n",
    "ax.set_ylabel('k$_y$ ($\\AA^{-1}$)', fontsize=18)\n",
    "ax.set_xlabel('k$_x$ ($\\AA^{-1}$)', fontsize=18)\n",
    "ax.tick_params(axis='both', which='major', labelsize=16)\n",
    "ax.set_xticks(np.arange(0, 0.55, 0.25))\n",
    "ax.set_xticklabels(['0.0', '0.25', '0.5'])\n",
    "\n",
    "ax.collections[0].colorbar.remove()\n",
    "cbar = plt.colorbar(ax.collections[0], ax=ax, fraction=0.1, pad=0.05, aspect=25)\n",
    "cbar.set_label('Intensity', fontsize=16, labelpad=5)\n",
    "cbar.ax.text(0.6, 1.0, 'Max', ha='center', va='bottom', transform=cbar.ax.transAxes, fontsize=12)\n",
    "cbar.ax.text(0.6, -0.06, 'Min', ha='center', va='bottom', transform=cbar.ax.transAxes, fontsize=12)\n",
    "cbar.set_ticks([])\n",
    "# set x and y axis to be equal\n",
    "# plt.gca().set_aspect('equal', adjustable='box')\n",
    "plt.savefig('Bi2223_FS_bilayer.pdf', bbox_inches='tight')\n",
    "plt.show()"
   ]
  },
  {
   "cell_type": "code",
   "execution_count": null,
   "metadata": {},
   "outputs": [],
   "source": [
    "fig, ax = plt.subplots(1, 1, figsize=(3, 5))\n",
    "\n",
    "edm = lt_an_p5.sel(kx=slice(-0.4,0.01), eV=slice(-0.11,0.02), ky=slice(0.42,0.46)).sum(\"ky\")\n",
    "edm.plot(ax=ax, vmin=1, vmax=6, cmap='PuBu', rasterized=True)\n",
    "\n",
    "ax.set_title('')\n",
    "ax.set_xlim(-0.4,0.0)\n",
    "ax.set_ylabel('Energy E$_B$ (eV)', fontsize=18)\n",
    "ax.set_xlabel('k$_\\parallel$ ($\\AA^{-1}$)', fontsize=18)\n",
    "ax.tick_params(axis='both', which='major', labelsize=16)\n",
    "ax.set_xticks(np.arange(-0.4, 0.1, 0.2))\n",
    "ax.collections[0].colorbar.remove()\n",
    "cbar = plt.colorbar(ax.collections[0], ax=ax, fraction=0.1, pad=0.08, aspect=25)\n",
    "cbar.set_label('Intensity', fontsize=16, labelpad=5)\n",
    "cbar.ax.text(0.6, 1.0, 'Max', ha='center', va='bottom', transform=cbar.ax.transAxes, fontsize=12)\n",
    "cbar.ax.text(0.6, -0.05, 'Min', ha='center', va='bottom', transform=cbar.ax.transAxes, fontsize=12)\n",
    "cbar.set_ticks([])\n",
    "\n",
    "# plt.savefig('Bi2223_EDM_splitting.pdf', bbox_inches='tight')\n",
    "plt.show()"
   ]
  },
  {
   "cell_type": "code",
   "execution_count": null,
   "metadata": {},
   "outputs": [],
   "source": [
    "\n",
    "fig, ax = plt.subplots(2, 5, figsize=(20, 8))\n",
    "\n",
    "line = [-0.27, -0.25, -0.25, -0.25, -0.23, -0.23, -0.23, -0.23, -0.21, -0.21]\n",
    "\n",
    "for i, ky in enumerate(lt_an_p5.sel(ky=slice(0.41,0.51)).ky):\n",
    "    edm = lt_an_p5.sel(kx=slice(-0.55,0), eV=slice(-0.12,0.02), ky=ky)\n",
    "    edm.plot(ax=ax.flat[i])\n",
    "    ax.flat[i].set_title(f'ky={np.round(ky.values,2)}')\n",
    "    ax.flat[i].axvline(x=line[i], color='k', linestyle='--', linewidth=1)\n",
    "\n",
    "plt.tight_layout()"
   ]
  },
  {
   "cell_type": "code",
   "execution_count": null,
   "metadata": {},
   "outputs": [],
   "source": [
    "\n",
    "fig, ax = plt.subplots(2, 5, figsize=(20, 8))\n",
    "\n",
    "line = [-0.27, -0.25, -0.25, -0.25, -0.23, -0.23, -0.23, -0.23, -0.21, -0.21]\n",
    "\n",
    "for i, ky in enumerate(ht_an_p5.sel(ky=slice(0.41,0.51)).ky):\n",
    "    edm = ht_an_p5.sel(kx=slice(-0.55,0), eV=slice(-0.08,0.02), ky=ky)\n",
    "    edm.plot(ax=ax.flat[i])\n",
    "    ax.flat[i].set_title(f'ky={np.round(ky.values,2)}')\n",
    "    ax.flat[i].axvline(x=line[i], color='k', linestyle='--', linewidth=1)\n",
    "\n",
    "plt.tight_layout()"
   ]
  },
  {
   "cell_type": "code",
   "execution_count": null,
   "metadata": {},
   "outputs": [],
   "source": [
    "fig, (ax, ax2) = plt.subplots(1, 2, figsize=(5, 5))\n",
    "\n",
    "line = [-0.27, -0.25, -0.25, -0.25, -0.23, -0.23, -0.23, -0.23, -0.21, -0.21]\n",
    "\n",
    "for i, ky in enumerate(lt_an_p5.sel(ky=slice(0.41,0.51)).ky):\n",
    "    edc = lt_an_p5.sel(kx=slice(line[i]-0.02,line[i]+0.02), eV=slice(-0.1,0.07), ky=ky).sum(\"kx\")\n",
    "    (normalize(edc)+i*1).sel(eV=slice(-0.08,0)).plot(ax=ax, label=f'kx={line[i]}, ky={np.round(ky,2)}', color=colors[i+1])\n",
    "    ax.plot(-1*edc.sel(eV=slice(-0.08,0)).eV.values, (normalize(edc)+i*1).sel(eV=slice(-0.08,0)).values, color=colors[i+1])\n",
    "\n",
    "for i, ky in enumerate(ht_an_p5.sel(ky=slice(0.41,0.51)).ky):\n",
    "    edc = ht_an_p5.sel(kx=slice(line[i]-0.02,line[i]+0.02), eV=slice(-0.1,0.07), ky=ky).sum(\"kx\")\n",
    "    (normalize(edc)+i*1).sel(eV=slice(-0.08,0)).plot(ax=ax2, label=f'', color=colors[i+1])\n",
    "    ax2.plot(-1*edc.sel(eV=slice(-0.08,0)).eV.values, (normalize(edc)+i*1).sel(eV=slice(-0.08,0)).values, color=colors[i+1])\n",
    "\n",
    "for axis in [ax, ax2]:\n",
    "    axis.set_title('')\n",
    "    axis.set_ylabel('', fontsize=18)\n",
    "    axis.set_xlabel('', fontsize=18)\n",
    "    axis.yaxis.set_ticks([])\n",
    "    axis.yaxis.set_ticklabels([])\n",
    "    axis.set_xlim(-0.08, 0.08)\n",
    "\n",
    "ax.tick_params(axis='both', which='major', labelsize=16)\n",
    "ax2.tick_params(axis='both', which='major', labelsize=16)\n",
    "ax.set_ylabel('Intensity', fontsize=18)\n",
    "ax.set_xlabel('E$_B$ (eV)', fontsize=18)\n",
    "ax2.set_xlabel('E$_B$ (eV)', fontsize=18)\n",
    "\n",
    "e=0.03\n",
    "ax.axvline(x=-e, color='k', linestyle='--', linewidth=1)\n",
    "ax.axvline(x=e, color='k', linestyle='--', linewidth=1)\n",
    "\n",
    "plt.subplots_adjust(wspace=0.03)\n",
    "plt.savefig('Bi2223_gap_large.pdf', bbox_inches='tight')"
   ]
  }
 ],
 "metadata": {
  "kernelspec": {
   "display_name": "arpes",
   "language": "python",
   "name": "python3"
  },
  "language_info": {
   "codemirror_mode": {
    "name": "ipython",
    "version": 3
   },
   "file_extension": ".py",
   "mimetype": "text/x-python",
   "name": "python",
   "nbconvert_exporter": "python",
   "pygments_lexer": "ipython3",
   "version": "3.8.13"
  }
 },
 "nbformat": 4,
 "nbformat_minor": 2
}
