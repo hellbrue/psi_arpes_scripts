{
 "cells": [
  {
   "cell_type": "code",
   "execution_count": null,
   "metadata": {},
   "outputs": [],
   "source": [
    "%load_ext autoreload\n",
    "%autoreload 2\n",
    "from arpes.all import *\n",
    "import os.path\n",
    "import matplotlib.pyplot as plt\n",
    "import matplotlib.patches as patches\n",
    "import math\n",
    "import numpy as np\n",
    "%matplotlib inline"
   ]
  },
  {
   "cell_type": "code",
   "execution_count": null,
   "metadata": {},
   "outputs": [],
   "source": [
    "# Define directory\n",
    "path = os.path.abspath(r'C:\\Users\\hellbrue\\Documents\\Bi2223_1st_beamtime')\n",
    "\n",
    "# Different parameters used to set up scans at SLS\n",
    "scan_type = '*'\n",
    "direction = 'X'\n",
    "phi = '*'\n",
    "energy = '*'\n",
    "polarization = '*'\n",
    "temp = '*'\n",
    "e_pass = '*'+'eVpass'\n",
    "comment = '*'\n",
    "run = '*'.zfill(4)\n",
    "\n",
    "# Put together string for finding file\n",
    "parameters = [scan_type, direction, phi, energy, polarization, temp, e_pass, comment, run]\n",
    "if comment == '':\n",
    "    parameters.remove(comment)\n",
    "file_type = 'h5'\n",
    "file_name = '_'.join(parameters)\n",
    "file = '.'.join([file_name , file_type])\n",
    "\n",
    "au_full_file = os.path.join(path, file)\n",
    "file"
   ]
  },
  {
   "cell_type": "code",
   "execution_count": null,
   "metadata": {},
   "outputs": [],
   "source": [
    "import glob\n",
    "# Load all files with above specified parameters, * is a placeholder and imports all files in its place\n",
    "au_files = glob.glob(au_full_file)\n",
    "print(len(au_files))\n",
    "au_files"
   ]
  },
  {
   "cell_type": "code",
   "execution_count": 20,
   "metadata": {},
   "outputs": [],
   "source": [
    "au_raw_data_list = {}\n",
    "for file in au_files:\n",
    "    #data_list.append(load_data(file, location=\"ULTRA\"))\n",
    "    data = load_data(file, location=\"ULTRA\")\n",
    "    # k_data = convert_to_kspace(data.spectrum)\n",
    "    file_name = file.replace(path, '')[1:-3]\n",
    "    au_raw_data_list.update({file_name : data})"
   ]
  },
  {
   "cell_type": "markdown",
   "metadata": {},
   "source": [
    "poly Au used to determine Fermi level. Determine Fermiedge and apply to data below"
   ]
  },
  {
   "cell_type": "code",
   "execution_count": null,
   "metadata": {},
   "outputs": [],
   "source": [
    "au_lt = au_raw_data_list['EDC_X_P95_25eV_UNKN_LT_5eVpass_GoldRef11K_0007']\n",
    "au_lt.S.plot()"
   ]
  },
  {
   "cell_type": "code",
   "execution_count": null,
   "metadata": {},
   "outputs": [],
   "source": [
    "from arpes.analysis.general import rebin\n",
    "\n",
    "binned = rebin(au_lt, phi=10).spectrum\n",
    "binned.plot()"
   ]
  },
  {
   "cell_type": "code",
   "execution_count": null,
   "metadata": {},
   "outputs": [],
   "source": [
    "from arpes.all import AffineBroadenedFD, broadcast_model\n",
    "fermi_level = binned.sel(phi=slice(-0.2,0.2), eV=slice(-0.2,0.1))\n",
    "results = broadcast_model(AffineBroadenedFD, fermi_level, \"phi\")\n",
    "\n",
    "fig, ax = plt.subplots()\n",
    "fermi_level.plot(ax=ax)\n",
    "ax.scatter(*results.F.p(\"fd_center\").G.to_arrays(), color=\"red\")\n",
    "ax.axhline(y=0, color='k', linestyle='--', linewidth=1)"
   ]
  },
  {
   "cell_type": "code",
   "execution_count": null,
   "metadata": {},
   "outputs": [],
   "source": [
    "from arpes.fits.fit_models import LinearModel\n",
    "lin_mod = LinearModel().guess_fit(results.F.p(\"fd_center\"))\n",
    "lin_mod.plot()\n",
    "plt.show()"
   ]
  },
  {
   "cell_type": "code",
   "execution_count": null,
   "metadata": {},
   "outputs": [],
   "source": [
    "edc = au_lt.spectrum\n",
    "edge = lin_mod.eval(x=edc.phi)\n",
    "\n",
    "corrected_edc = edc.G.shift_by(edge, \"eV\")\n",
    "\n",
    "fig, axes = plt.subplots(1, 2, figsize=(10, 5))\n",
    "corrected_edc.plot(ax=axes[0], vmax=10)\n",
    "edc.plot(ax=axes[1], vmax=20)\n",
    "# plot vertical lines for y = 0\n",
    "for ax in axes:\n",
    "    ax.set_title(\"\")\n",
    "    ax.axhline(y=0, color='k', linestyle='--', linewidth=1)"
   ]
  },
  {
   "cell_type": "code",
   "execution_count": null,
   "metadata": {},
   "outputs": [],
   "source": [
    "# Define directory\n",
    "path = os.path.abspath(r'C:\\Users\\hellbrue\\Documents\\Bi2223_1st_beamtime')\n",
    "\n",
    "# Different parameters used to set up scans at SLS\n",
    "scan_type = 'FS'\n",
    "direction = 'N'\n",
    "phi = 'P50'\n",
    "energy = '*'\n",
    "polarization = 'CIRCM'\n",
    "temp = '*'\n",
    "e_pass = '*'+'eVpass'\n",
    "comment = 'zoom'\n",
    "run = '0'.zfill(4)\n",
    "\n",
    "# Put together string for finding file\n",
    "parameters = [scan_type, direction, phi, energy, polarization, temp, e_pass, comment, run]\n",
    "if comment == '':\n",
    "    parameters.remove(comment)\n",
    "file_type = 'h5'\n",
    "file_name = '_'.join(parameters)\n",
    "file = '.'.join([file_name , file_type])\n",
    "\n",
    "bi2223_full_file = os.path.join(path, file)\n",
    "file"
   ]
  },
  {
   "cell_type": "code",
   "execution_count": null,
   "metadata": {},
   "outputs": [],
   "source": [
    "import glob\n",
    "# Load all files with above specified parameters, * is a placeholder and imports all files in its place\n",
    "bi2223_files = glob.glob(bi2223_full_file)\n",
    "print(len(bi2223_files))\n",
    "bi2223_files"
   ]
  },
  {
   "cell_type": "code",
   "execution_count": 32,
   "metadata": {},
   "outputs": [],
   "source": [
    "bi2223_data_list = {}\n",
    "for file in bi2223_files:\n",
    "    #data_list.append(load_data(file, location=\"ULTRA\"))\n",
    "    raw_data = load_data(file, location=\"ULTRA\")\n",
    "    edge = lin_mod.eval(x=raw_data.spectrum.phi)\n",
    "    corrected_data = raw_data.spectrum.G.shift_by(edge, \"eV\")\n",
    "    corrected_data = rebin(corrected_data, phi=3, beta=3)\n",
    "    corrected_data.S.apply_offsets({\"beta\": -0.05, \"phi\": 0.15})\n",
    "    k_data = convert_to_kspace(corrected_data)\n",
    "    file_name = file.replace(path, '')[1:-3]\n",
    "    bi2223_data_list.update({file_name : k_data})"
   ]
  },
  {
   "cell_type": "markdown",
   "metadata": {},
   "source": [
    "Initalize datasets"
   ]
  },
  {
   "cell_type": "code",
   "execution_count": 33,
   "metadata": {},
   "outputs": [],
   "source": [
    "lt_fs_zoom = bi2223_data_list['FS_N_P50_26p5eV_CIRCM_LT_5eVpass_zoom_0000']\n"
   ]
  },
  {
   "cell_type": "markdown",
   "metadata": {},
   "source": [
    "Overview of the LT P5 Dataset"
   ]
  },
  {
   "cell_type": "code",
   "execution_count": null,
   "metadata": {},
   "outputs": [],
   "source": [
    "fig, ax = plt.subplots(1, 1, figsize=(6, 5))\n",
    "lt_fs_zoom.sel(eV=slice(-0.02,0.02), kx=slice(-0.6,-0.09), ky=slice(-0.23,0.25)).sum(\"eV\").plot(ax=ax, cmap='PuBu_r', vmin=3, vmax=50, rasterized=True)\n",
    "\n",
    "ax.set_title('')\n",
    "ax.set_ylabel('k$_y$ ($\\AA^{-1}$)', fontsize=18)\n",
    "ax.set_xlabel('k$_x$ ($\\AA^{-1}$)', fontsize=18)\n",
    "ax.tick_params(axis='both', which='major', labelsize=16)\n",
    "\n",
    "ax.collections[0].colorbar.remove()\n",
    "cbar = plt.colorbar(ax.collections[0], ax=ax, fraction=0.1, pad=0.05, aspect=25)\n",
    "cbar.set_label('Intensity', fontsize=16, labelpad=5)\n",
    "cbar.ax.text(0.6, 1.0, 'Max', ha='center', va='bottom', transform=cbar.ax.transAxes, fontsize=12)\n",
    "cbar.ax.text(0.6, -0.06, 'Min', ha='center', va='bottom', transform=cbar.ax.transAxes, fontsize=12)\n",
    "cbar.set_ticks([])\n",
    "# set x and y axis to be equal\n",
    "# plt.savefig('FS_hybrid_zoom.pdf', bbox_inches='tight')\n",
    "plt.show()"
   ]
  }
 ],
 "metadata": {
  "kernelspec": {
   "display_name": "pyarpes_kernel",
   "language": "python",
   "name": "arpes"
  },
  "language_info": {
   "codemirror_mode": {
    "name": "ipython",
    "version": 3
   },
   "file_extension": ".py",
   "mimetype": "text/x-python",
   "name": "python",
   "nbconvert_exporter": "python",
   "pygments_lexer": "ipython3",
   "version": "3.8.13"
  }
 },
 "nbformat": 4,
 "nbformat_minor": 2
}
